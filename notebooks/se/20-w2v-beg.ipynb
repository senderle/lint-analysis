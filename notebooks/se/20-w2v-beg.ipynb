








<!DOCTYPE html>
<html lang="en">

<head>
  <meta charset="utf-8">
  <title>Jupyter Notebook Viewer</title>
  <meta name="viewport" content="width=device-width, initial-scale=1.0">
  <meta name="description" content="">
  <meta name="author" content="">
  
  <meta name="robots" content="noindex,nofollow">
  

  <!--NEW RELIC Start Perf Measurement-->
  
  <!--NREND-->

  <!-- Le styles -->
  <script src="/cdn-cgi/apps/head/MuIIl4I_IVFkxldaVu1mdWee9as.js"></script><link href="/static/build/styles.css?v=af7ff69ae1abb8954a21dbb2241d4e24" rel="stylesheet">

  <!-- Le HTML5 shim, for IE6-8 support of HTML5 elements -->
  <!--[if lt IE 9]>
    <script src="http://html5shim.googlecode.com/svn/trunk/html5.js"></script>
  <![endif]-->

  <!-- Le fav and touch icons -->
  <link rel="shortcut icon" href="/static/ico/ipynb_icon_16x16.png">
  <link rel="apple-touch-icon-precomposed" sizes="144x144"
        href="/static/ico/apple-touch-icon-144-precomposed.png?v=5a3c9ede93e2a8b8ea9e3f8f3da1a905">
  <link rel="apple-touch-icon-precomposed" sizes="114x114"
        href="/static/ico/apple-touch-icon-114-precomposed.png?v=45d86fc8f24dc00638035e1dd7a6d898">
  <link rel="apple-touch-icon-precomposed" sizes="72x72"
        href="/static/ico/apple-touch-icon-72-precomposed.png?v=540b5eb0f3cfd25f1439d1c9bd30e15f">
  <link rel="apple-touch-icon-precomposed"
        href="/static/ico/apple-touch-icon-57-precomposed.png?v=225f0590e187e1458625654f10a28f56">
  
  

  

  
  <meta name="twitter:card" content="summary">
  <meta name="twitter:title" content="Notebook on nbviewer">
  <meta name="twitter:description" content="Check out this Jupyter notebook!">

  
  <meta name="twitter:domain" content="nbviewer.ipython.org">
  <meta name="twitter:image:src" content="http://ipython.org/ipython-doc/dev/_images/ipynb_icon_128x128.png">

  
    <link href="/static/build/notebook.css?v=70404d2166a8ab8949e8e1cdff07b91f" rel="stylesheet">
  

  

  
    <script src="https://cdnjs.cloudflare.com/ajax/libs/mathjax/2.7.1/MathJax.js?config=TeX-AMS_HTML" type="text/javascript">
    </script>
    <script type="text/javascript">
      init_mathjax = function() {
        if (window.MathJax) {
          // MathJax loaded
          MathJax.Hub.Config({
            TeX: {
              equationNumbers: {
                autoNumber: "AMS",
                useLabelIds: true
              }
            },
            tex2jax: {
              inlineMath: [ ['$','$'], ["\\(","\\)"] ],
              displayMath: [ ['$$','$$'], ["\\[","\\]"] ],
              processEscapes: true,
              processEnvironments: true
            },
            displayAlign: 'center',
            "HTML-CSS": {
              styles: {'.MathJax_Display': {"margin": 0}},
              linebreaks: { automatic: true }
            }
          });
          MathJax.Hub.Queue(["Typeset", MathJax.Hub]);
        }
      }
      init_mathjax();
    </script>
  

  
    <script>
      (function() {
        function addWidgetsRenderer() {
          var mimeElement = document.querySelector('script[type="application/vnd.jupyter.widget-view+json"]');
          var scriptElement = document.createElement('script');
          var widgetRendererSrc = 'https://unpkg.com/@jupyter-widgets/html-manager@*/dist/embed-amd.js';
          var widgetState;

          try {
            widgetState = mimeElement && JSON.parse(mimeElement.innerHTML);

            if (widgetState && (widgetState.version_major < 2 || !widgetState.version_major)) {
              widgetRendererSrc = 'https://unpkg.com/jupyter-js-widgets@*/dist/embed.js';
            }
          } catch(e) {}

          scriptElement.src = widgetRendererSrc;
          document.body.appendChild(scriptElement);
        }

        document.addEventListener('DOMContentLoaded', addWidgetsRenderer);
      }());
    </script>
  

</head>

<body class="nbviewer">

  <!-- These are loaded at the top of the body so they are available to
       notebook cells when they are loaded below. -->
  <script src="/static/components/jquery/dist/jquery.min.js?v=a09e13ee94d51c524b7e2a728c7d4039"></script>
  <script src="/static/components/requirejs/require.js?v=6da8be361b9ee26c5e721e76c6d4afce"></script>
  <script src="/static/components/moment/min/moment.min.js?v=89f87298ad94aa1e6b92f42eb66da043"></script>
<!-- Navbar
================================================== -->
  <nav id="menubar" class="navbar navbar-default navbar-fixed-top" data-spy="affix">
    <div class="container">
      <div class="navbar-header">
        <button type="button" class="navbar-toggle collapsed" data-toggle="collapse" data-target=".navbar-collapse">
          <span class="sr-only">Toggle navigation</span>
          <i class="fa fa-bars"></i>
        </button>
        <a class="navbar-brand" href="/">
          <img src="/static/img/nav_logo.svg?v=479cefe8d932fb14a67b93911b97d70f" width="159"/>
        </a>
      </div>

      <div class="collapse navbar-collapse">
        <ul class="nav navbar-nav navbar-right">
          <li>
            <a class="active" href="http://jupyter.org">JUPYTER</a>
          </li>
          <li>
    <a href="/faq" title="FAQ" >
      
        <span>FAQ</span>
      
    </a>
  </li>

          
  
    
      
        <li>
    <a href="/format/script/github/davidmcclure/lint-analysis/blob/master/notebooks/a-the/20-w2v-beg.ipynb" title="View as Code" >
      <span class="fa fa-code fa-2x menu-icon"></span>
      <span class="menu-text">View as Code</span>
    </a>
  </li>
      
    
  
    
  

  
    <li>
    <a href="#" title="Python 3 Kernel" >
      <span class="fa fa-server fa-2x menu-icon"></span>
      <span class="menu-text">Python 3 Kernel</span>
    </a>
  </li>
  

  
    <li>
    <a href="https://github.com/davidmcclure/lint-analysis/blob/master/notebooks/a-the/20-w2v-beg.ipynb" title="View on GitHub" >
      <span class="fa fa-github fa-2x menu-icon"></span>
      <span class="menu-text">View on GitHub</span>
    </a>
  </li>
  

  <li>
    <a href="https://raw.githubusercontent.com/davidmcclure/lint-analysis/master/notebooks/a-the/20-w2v-beg.ipynb" title="Download Notebook" download>
      <span class="fa fa-download fa-2x menu-icon"></span>
      <span class="menu-text">Download Notebook</span>
    </a>
  </li>

        </ul>
      </div><!-- /.navbar-collapse -->
      
      
    </div>
  </nav>

  <div class="container container-main">
    
  
  <ol class="breadcrumb">
    
      <li>
        <a href="/github/davidmcclure/lint-analysis/tree/master">lint-analysis</a>
      </li>
    
      <li>
        <a href="/github/davidmcclure/lint-analysis/tree/master/notebooks">notebooks</a>
      </li>
    
      <li>
        <a href="/github/davidmcclure/lint-analysis/tree/master/notebooks/a-the">a-the</a>
      </li>
    
  </ol>
  
  <div id="notebook">
    <div id="notebook-container">
      
<div class="cell border-box-sizing code_cell rendered">
<div class="input">
<div class="prompt input_prompt">In&nbsp;[1]:</div>
<div class="inner_cell">
    <div class="input_area">
<div class=" highlight hl-ipython3"><pre><span></span><span class="kn">from</span> <span class="nn">gensim.models</span> <span class="k">import</span> <span class="n">KeyedVectors</span>
</pre></div>

</div>
</div>
</div>

</div>
<div class="cell border-box-sizing code_cell rendered">
<div class="input">
<div class="prompt input_prompt">In&nbsp;[2]:</div>
<div class="inner_cell">
    <div class="input_area">
<div class=" highlight hl-ipython3"><pre><span></span><span class="n">model</span> <span class="o">=</span> <span class="n">KeyedVectors</span><span class="o">.</span><span class="n">load_word2vec_format</span><span class="p">(</span><span class="s1">&#39;../../data/w2v-beg5.txt/beg5.w2v.txt&#39;</span><span class="p">)</span>
</pre></div>

</div>
</div>
</div>

</div>
<div class="cell border-box-sizing code_cell rendered">
<div class="input">
<div class="prompt input_prompt">In&nbsp;[3]:</div>
<div class="inner_cell">
    <div class="input_area">
<div class=" highlight hl-ipython3"><pre><span></span><span class="n">model</span><span class="o">.</span><span class="n">distance</span><span class="p">(</span><span class="s1">&#39;a&#39;</span><span class="p">,</span> <span class="s1">&#39;the&#39;</span><span class="p">)</span>
</pre></div>

</div>
</div>
</div>

<div class="output_wrapper">
<div class="output">


<div class="output_area">

<div class="prompt output_prompt">Out[3]:</div>




<div class="output_text output_subarea output_execute_result">
<pre>0.6990402351011039</pre>
</div>

</div>

</div>
</div>

</div>
<div class="cell border-box-sizing code_cell rendered">
<div class="input">
<div class="prompt input_prompt">In&nbsp;[4]:</div>
<div class="inner_cell">
    <div class="input_area">
<div class=" highlight hl-ipython3"><pre><span></span><span class="n">model</span><span class="o">.</span><span class="n">similar_by_vector</span><span class="p">(</span><span class="n">model</span><span class="p">[</span><span class="s1">&#39;a&#39;</span><span class="p">]</span> <span class="o">-</span> <span class="n">model</span><span class="p">[</span><span class="s1">&#39;the&#39;</span><span class="p">],</span> <span class="mi">100</span><span class="p">)</span>
</pre></div>

</div>
</div>
</div>

<div class="output_wrapper">
<div class="output">


<div class="output_area">

<div class="prompt output_prompt">Out[4]:</div>




<div class="output_text output_subarea output_execute_result">
<pre>[(&#39;a&#39;, 0.7356859445571899),
 (&#39;—a&#39;, 0.45734795928001404),
 (&#39;sort&#39;, 0.41196274757385254),
 (&#39;а&#39;, 0.41195106506347656),
 (&#39;another&#39;, 0.34331730008125305),
 (&#39;remarkably&#39;, 0.3327641785144806),
 (&#39;trifle&#39;, 0.33273136615753174),
 (&#39;á&#39;, 0.32467177510261536),
 (&#39;nice&#39;, 0.32116228342056274),
 (&#39;coward&#39;, 0.32085636258125305),
 (&#39;liar&#39;, 0.3093692660331726),
 (&#39;fit&#39;, 0.30790597200393677),
 (&#39;husky&#39;, 0.30498403310775757),
 (&#39;decent&#39;, 0.303021103143692),
 (&#39;bit&#39;, 0.30060750246047974),
 (&#39;widower&#39;, 0.2985055446624756),
 (&#39;mite&#39;, 0.29251962900161743),
 (&#39;leetle&#39;, 0.28815075755119324),
 (&#39;queer&#39;, 0.2870798707008362),
 (&#39;cough&#39;, 0.2822880148887634),
 (&#39;nasty&#39;, 0.28148719668388367),
 (&#39;withal&#39;, 0.2811693251132965),
 (&#39;chuckle&#39;, 0.280501127243042),
 (&#39;grunt&#39;, 0.27605974674224854),
 (&#39;shy&#39;, 0.26867300271987915),
 (&#39;clever&#39;, 0.26863721013069153),
 (&#39;more’n&#39;, 0.2649000883102417),
 (&#39;λ&#39;, 0.26392436027526855),
 (&#39;wee&#39;, 0.26366111636161804),
 (&#39;feller&#39;, 0.26358023285865784),
 (&#39;veritable&#39;, 0.2622573673725128),
 (&#39;single&#39;, 0.2603481411933899),
 (&#39;surprisingly&#39;, 0.2602648437023163),
 (&#39;thief&#39;, 0.25985270738601685),
 (&#39;politician&#39;, 0.2597220540046692),
 (&#39;pair&#39;, 0.2587704360485077),
 (&#39;slice&#39;, 0.2585197687149048),
 (&#39;jerk&#39;, 0.2571216821670532),
 (&#39;foreigner&#39;, 0.2569512724876404),
 (&#39;pint&#39;, 0.2566920220851898),
 (&#39;grin&#39;, 0.2551073431968689),
 (&#39;specimen&#39;, 0.2550407648086548),
 (&#39;pang&#39;, 0.2546323537826538),
 (&#39;sneer&#39;, 0.2545011043548584),
 (&#39;sich&#39;, 0.25108614563941956),
 (&#39;handsome&#39;, 0.2494208812713623),
 (&#39;coincidence&#39;, 0.24730364978313446),
 (&#39;smile&#39;, 0.2466443032026291),
 (&#39;playful&#39;, 0.2461414635181427),
 (&#39;chap&#39;, 0.24543170630931854),
 (&#39;’tis&#39;, 0.2446168065071106),
 (&#39;little&#39;, 0.2440938502550125),
 (&#39;fool&#39;, 0.2436901032924652),
 (&#39;quick&#39;, 0.24298977851867676),
 (&#39;fine&#39;, 0.2428169846534729),
 (&#39;nod&#39;, 0.24218732118606567),
 (&#39;sum&#39;, 0.24206021428108215),
 (&#39;bucks&#39;, 0.24181008338928223),
 (&#39;slight&#39;, 0.24143745005130768),
 (&#39;kind&#39;, 0.23769202828407288),
 (&#39;thoughtful&#39;, 0.23736639320850372),
 (&#39;piece&#39;, 0.2365783452987671),
 (&#39;smart&#39;, 0.2351222187280655),
 (&#39;something&#39;, 0.23399664461612701),
 (&#39;compact&#39;, 0.23394232988357544),
 (&#39;bitch&#39;, 0.2336145043373108),
 (&#39;pinch&#39;, 0.23356963694095612),
 (&#39;mockery&#39;, 0.23262716829776764),
 (&#39;chat&#39;, 0.23152250051498413),
 (&#39;gasp&#39;, 0.2306985706090927),
 (&#39;pretty&#39;, 0.22999632358551025),
 (&#39;pause&#39;, 0.22940124571323395),
 (&#39;lifetime&#39;, 0.22934114933013916),
 (&#39;professional&#39;, 0.22853639721870422),
 (&#39;gal&#39;, 0.22827835381031036),
 (&#39;modest&#39;, 0.22794482111930847),
 (&#39;short&#39;, 0.22793076932430267),
 (&#39;headache&#39;, 0.22742649912834167),
 (&#39;writer&#39;, 0.2256752848625183),
 (&#39;lookin’&#39;, 0.22503846883773804),
 (&#39;cynical&#39;, 0.2236500084400177),
 (&#39;à&#39;, 0.2235402762889862),
 (&#39;sly&#39;, 0.22239789366722107),
 (&#39;humorous&#39;, 0.2216155081987381),
 (&#39;shrewd&#39;, 0.22061634063720703),
 (&#39;joke&#39;, 0.22054018080234528),
 (&#39;allowance&#39;, 0.21986575424671173),
 (&#39;wistful&#39;, 0.2188708335161209),
 (&#39;morbid&#39;, 0.21822649240493774),
 (&#39;thorough&#39;, 0.21724343299865723),
 (&#39;dime&#39;, 0.21654757857322693),
 (&#39;brunette&#39;, 0.2160676121711731),
 (&#39;suitable&#39;, 0.2158934772014618),
 (&#39;neat&#39;, 0.21577805280685425),
 (&#39;healthy&#39;, 0.21558016538619995),
 (&#39;groan&#39;, 0.21520458161830902),
 (&#39;momentary&#39;, 0.21491530537605286),
 (&#39;funny&#39;, 0.21476848423480988),
 (&#39;useful&#39;, 0.21461458504199982),
 (&#39;contemptuous&#39;, 0.21460920572280884)]</pre>
</div>

</div>

</div>
</div>

</div>
<div class="cell border-box-sizing code_cell rendered">
<div class="input">
<div class="prompt input_prompt">In&nbsp;[5]:</div>
<div class="inner_cell">
    <div class="input_area">
<div class=" highlight hl-ipython3"><pre><span></span><span class="n">model</span><span class="o">.</span><span class="n">similar_by_vector</span><span class="p">(</span><span class="n">model</span><span class="p">[</span><span class="s1">&#39;an&#39;</span><span class="p">]</span> <span class="o">-</span> <span class="n">model</span><span class="p">[</span><span class="s1">&#39;the&#39;</span><span class="p">],</span> <span class="mi">100</span><span class="p">)</span>
</pre></div>

</div>
</div>
</div>

<div class="output_wrapper">
<div class="output">


<div class="output_area">

<div class="prompt output_prompt">Out[5]:</div>




<div class="output_text output_subarea output_execute_result">
<pre>[(&#39;an&#39;, 0.8399209380149841),
 (&#39;asylum&#39;, 0.42612114548683167),
 (&#39;apology&#39;, 0.39952051639556885),
 (&#39;involuntary&#39;, 0.367148220539093),
 (&#39;englishman&#39;, 0.35835856199264526),
 (&#39;insane&#39;, 0.3551768958568573),
 (&#39;eyebrow&#39;, 0.3368167281150818),
 (&#39;idiot&#39;, 0.3345141112804413),
 (&#39;excuse&#39;, 0.3310638666152954),
 (&#39;pression&#39;, 0.3252953290939331),
 (&#39;amateur&#39;, 0.3243577480316162),
 (&#39;irresistible&#39;, 0.32101118564605713),
 (&#39;insult&#39;, 0.315926194190979),
 (&#39;orphan&#39;, 0.3091995120048523),
 (&#39;instinctive&#39;, 0.3084772825241089),
 (&#39;eccentric&#39;, 0.30614393949508667),
 (&#39;unreasonable&#39;, 0.3049657344818115),
 (&#39;odd&#39;, 0.3042580485343933),
 (&#39;nate&#39;, 0.3018449544906616),
 (&#39;enormous&#39;, 0.3000207245349884),
 (&#39;acute&#39;, 0.2988430857658386),
 (&#39;obstinate&#39;, 0.2957177758216858),
 (&#39;actor&#39;, 0.2955014705657959),
 (&#39;expert&#39;, 0.29494529962539673),
 (&#39;adequate&#39;, 0.29406118392944336),
 (&#39;indescribable&#39;, 0.2901819944381714),
 (&#39;admirable&#39;, 0.2900785207748413),
 (&#39;absurd&#39;, 0.2898361086845398),
 (&#39;independent&#39;, 0.286814421415329),
 (&#39;irishman&#39;, 0.28667962551116943),
 (&#39;outrage&#39;, 0.2862645387649536),
 (&#39;intelligent&#39;, 0.2847239375114441),
 (&#39;unusual&#39;, 0.28103578090667725),
 (&#39;assumption&#39;, 0.28048741817474365),
 (&#39;opponent&#39;, 0.27957862615585327),
 (&#39;immense&#39;, 0.27865469455718994),
 (&#39;uncanny&#39;, 0.27822238206863403),
 (&#39;appointment&#39;, 0.27694207429885864),
 (&#39;ardent&#39;, 0.2766628861427307),
 (&#39;excellent&#39;, 0.27560877799987793),
 (&#39;ad&#39;, 0.27542397379875183),
 (&#39;actress&#39;, 0.27487146854400635),
 (&#39;obviously&#39;, 0.2747493386268616),
 (&#39;artist&#39;, 0.2740650773048401),
 (&#39;imitation&#39;, 0.2735420763492584),
 (&#39;interview&#39;, 0.2734126150608063),
 (&#39;appealing&#39;, 0.27198636531829834),
 (&#39;annoying&#39;, 0.27158722281455994),
 (&#39;adult&#39;, 0.2702425420284271),
 (&#39;temperament&#39;, 0.2694377899169922),
 (&#39;unusually&#39;, 0.26871275901794434),
 (&#39;extremely&#39;, 0.26799970865249634),
 (&#39;extraordinary&#39;, 0.26768773794174194),
 (&#39;amiable&#39;, 0.26758214831352234),
 (&#39;incredible&#39;, 0.2664136290550232),
 (&#39;intruder&#39;, 0.26610827445983887),
 (&#39;unpleasant&#39;, 0.26529523730278015),
 (&#39;extra&#39;, 0.2647172212600708),
 (&#39;expres¬&#39;, 0.2635190188884735),
 (&#39;elephant&#39;, 0.26319751143455505),
 (&#39;opportunity&#39;, 0.26299771666526794),
 (&#39;exclamation&#39;, 0.2627090811729431),
 (&#39;exceedingly&#39;, 0.2625296413898468),
 (&#39;attachment&#39;, 0.26147717237472534),
 (&#39;engaging&#39;, 0.26129719614982605),
 (&#39;invalid&#39;, 0.2612340450286865),
 (&#39;fo&#39;, 0.2608441114425659),
 (&#39;impossible&#39;, 0.26028844714164734),
 (&#39;aggressive&#39;, 0.2600144147872925),
 (&#39;automobile&#39;, 0.2591925859451294),
 (&#39;explanation&#39;, 0.2588130831718445),
 (&#39;hour&#39;, 0.25805968046188354),
 (&#39;unnatural&#39;, 0.25757724046707153),
 (&#39;habitual&#39;, 0.25587189197540283),
 (&#39;amusing&#39;, 0.25532323122024536),
 (&#39;injury&#39;, 0.2536303400993347),
 (&#39;inquiring&#39;, 0.2527754008769989),
 (&#39;lent&#39;, 0.2516350746154785),
 (&#39;au&#39;, 0.2514307200908661),
 (&#39;exaggerated&#39;, 0.25061994791030884),
 (&#39;invitation&#39;, 0.24931378662586212),
 (&#39;oath&#39;, 0.24859726428985596),
 (&#39;interesting&#39;, 0.24746443331241608),
 (&#39;advertisement&#39;, 0.24712960422039032),
 (&#39;affectionate&#39;, 0.24525830149650574),
 (&#39;intrusion&#39;, 0.24297383427619934),
 (&#39;impatient&#39;, 0.24214300513267517),
 (&#39;uncomfortable&#39;, 0.2421303391456604),
 (&#39;awkward&#39;, 0.24141359329223633),
 (&#39;agreeable&#39;, 0.24117405712604523),
 (&#39;uncommon&#39;, 0.24054016172885895),
 (&#39;angle&#39;, 0.2405155748128891),
 (&#39;heiress&#39;, 0.24020740389823914),
 (&#39;occupation&#39;, 0.24004507064819336),
 (&#39;amused&#39;, 0.23965142667293549),
 (&#39;elderly&#39;, 0.2394530177116394),
 (&#39;acceptable&#39;, 0.23941028118133545),
 (&#39;inch&#39;, 0.23902764916419983),
 (&#39;occa¬&#39;, 0.23758776485919952),
 (&#39;architect&#39;, 0.2366490364074707)]</pre>
</div>

</div>

</div>
</div>

</div>
<div class="cell border-box-sizing code_cell rendered">
<div class="input">
<div class="prompt input_prompt">In&nbsp;[6]:</div>
<div class="inner_cell">
    <div class="input_area">
<div class=" highlight hl-ipython3"><pre><span></span><span class="n">model</span><span class="o">.</span><span class="n">similar_by_vector</span><span class="p">(</span><span class="n">model</span><span class="p">[</span><span class="s1">&#39;the&#39;</span><span class="p">]</span> <span class="o">-</span> <span class="n">model</span><span class="p">[</span><span class="s1">&#39;a&#39;</span><span class="p">],</span> <span class="mi">100</span><span class="p">)</span>
</pre></div>

</div>
</div>
</div>

<div class="output_wrapper">
<div class="output">


<div class="output_area">

<div class="prompt output_prompt">Out[6]:</div>




<div class="output_text output_subarea output_execute_result">
<pre>[(&#39;the&#39;, 0.42450815439224243),
 (&#39;thè&#39;, 0.32343316078186035),
 (&#39;respective&#39;, 0.3140242099761963),
 (&#39;thé&#39;, 0.3131445646286011),
 (&#39;glories&#39;, 0.29142215847969055),
 (&#39;vicinity&#39;, 0.2831529974937439),
 (&#39;settlers&#39;, 0.2759542465209961),
 (&#39;colonies&#39;, 0.27314674854278564),
 (&#39;farthest&#39;, 0.267389714717865),
 (&#39;crowds&#39;, 0.25994470715522766),
 (&#39;premises&#39;, 0.258008748292923),
 (&#39;external&#39;, 0.25786179304122925),
 (&#39;their&#39;, 0.2480754852294922),
 (&#39;comers&#39;, 0.24664117395877838),
 (&#39;fairest&#39;, 0.24585390090942383),
 (&#39;utmost&#39;, 0.24403119087219238),
 (&#39;thereof&#39;, 0.24371416866779327),
 (&#39;ignoring&#39;, 0.24343031644821167),
 (&#39;masters&#39;, 0.2431301772594452),
 (&#39;saints&#39;, 0.24290138483047485),
 (&#39;settlements&#39;, 0.24265813827514648),
 (&#39;occupants&#39;, 0.24091076850891113),
 (&#39;surrounding&#39;, 0.24072568118572235),
 (&#39;hosts&#39;, 0.23951047658920288),
 (&#39;lords&#39;, 0.23904557526111603),
 (&#39;tho&#39;, 0.23695215582847595),
 (&#39;these&#39;, 0.23481842875480652),
 (&#39;inmates&#39;, 0.2343815267086029),
 (&#39;plains&#39;, 0.23382668197155),
 (&#39;spaniards&#39;, 0.2336682677268982),
 (&#39;outer&#39;, 0.23194944858551025),
 (&#39;nobles&#39;, 0.2319115698337555),
 (&#39;rebels&#39;, 0.23047254979610443),
 (&#39;rome&#39;, 0.22981467843055725),
 (&#39;towers&#39;, 0.2290796935558319),
 (&#39;creaked&#39;, 0.22748741507530212),
 (&#39;principal&#39;, 0.22709670662879944),
 (&#39;romans&#39;, 0.22691553831100464),
 (&#39;rear&#39;, 0.22595366835594177),
 (&#39;elders&#39;, 0.22481048107147217),
 (&#39;brightest&#39;, 0.22476978600025177),
 (&#39;docks&#39;, 0.22430658340454102),
 (&#39;eagerly&#39;, 0.22409792244434357),
 (&#39;groaned&#39;, 0.22348619997501373),
 (&#39;await&#39;, 0.22336383163928986),
 (&#39;ranks&#39;, 0.22215399146080017),
 (&#39;tlie&#39;, 0.22141990065574646),
 (&#39;capitol&#39;, 0.22108140587806702),
 (&#39;sidewalks&#39;, 0.2208479344844818),
 (&#39;plaza&#39;, 0.2197500467300415),
 (&#39;explore&#39;, 0.21891987323760986),
 (&#39;everywhere&#39;, 0.21876153349876404),
 (&#39;deepest&#39;, 0.2179628610610962),
 (&#39;eastern&#39;, 0.217625230550766),
 (&#39;remainder&#39;, 0.2175905704498291),
 (&#39;adjacent&#39;, 0.21694254875183105),
 (&#39;gates&#39;, 0.21516811847686768),
 (&#39;stages&#39;, 0.21513089537620544),
 (&#39;countryside&#39;, 0.21496739983558655),
 (&#39;sufferings&#39;, 0.21445532143115997),
 (&#39;windows&#39;, 0.21441665291786194),
 (&#39;twin&#39;, 0.2141627073287964),
 (&#39;scanned&#39;, 0.21386559307575226),
 (&#39;its&#39;, 0.21384266018867493),
 (&#39;divide&#39;, 0.21232381463050842),
 (&#39;various&#39;, 0.21173003315925598),
 (&#39;were&#39;, 0.21062487363815308),
 (&#39;thronged&#39;, 0.21029332280158997),
 (&#39;scanning&#39;, 0.2101784646511078),
 (&#39;straining&#39;, 0.20969727635383606),
 (&#39;dominion&#39;, 0.2096446305513382),
 (&#39;guards&#39;, 0.20938998460769653),
 (&#39;mists&#39;, 0.20924386382102966),
 (&#39;oblivious&#39;, 0.20923227071762085),
 (&#39;closing&#39;, 0.20907866954803467),
 (&#39;empress&#39;, 0.20877297222614288),
 (&#39;largest&#39;, 0.20846396684646606),
 (&#39;inhabitants&#39;, 0.2081371545791626),
 (&#39;emperor&#39;, 0.20805764198303223),
 (&#39;crowding&#39;, 0.20784518122673035),
 (&#39;neared&#39;, 0.20776355266571045),
 (&#39;records&#39;, 0.20738869905471802),
 (&#39;stables&#39;, 0.2068794071674347),
 (&#39;floors&#39;, 0.20657721161842346),
 (&#39;decks&#39;, 0.20625808835029602),
 (&#39;echoing&#39;, 0.2058512568473816),
 (&#39;victims&#39;, 0.20565050840377808),
 (&#39;roads&#39;, 0.20561483502388),
 (&#39;armies&#39;, 0.20561304688453674),
 (&#39;legends&#39;, 0.20561113953590393),
 (&#39;abbey&#39;, 0.20555588603019714),
 (&#39;regardless&#39;, 0.2055356204509735),
 (&#39;northern&#39;, 0.2051587700843811),
 (&#39;blacks&#39;, 0.20488527417182922),
 (&#39;walls&#39;, 0.20382054150104523),
 (&#39;directors&#39;, 0.20363596081733704),
 (&#39;regions&#39;, 0.2022855281829834),
 (&#39;seats&#39;, 0.20209360122680664),
 (&#39;villagers&#39;, 0.20189523696899414),
 (&#39;relieve&#39;, 0.2017766237258911)]</pre>
</div>

</div>

</div>
</div>

</div>
<div class="cell border-box-sizing code_cell rendered">
<div class="input">
<div class="prompt input_prompt">In&nbsp;[7]:</div>
<div class="inner_cell">
    <div class="input_area">
<div class=" highlight hl-ipython3"><pre><span></span><span class="n">model</span><span class="o">.</span><span class="n">similar_by_vector</span><span class="p">(</span><span class="n">model</span><span class="p">[</span><span class="s1">&#39;the&#39;</span><span class="p">]</span> <span class="o">-</span> <span class="n">model</span><span class="p">[</span><span class="s1">&#39;an&#39;</span><span class="p">],</span> <span class="mi">100</span><span class="p">)</span>
</pre></div>

</div>
</div>
</div>

<div class="output_wrapper">
<div class="output">


<div class="output_area">

<div class="prompt output_prompt">Out[7]:</div>




<div class="output_text output_subarea output_execute_result">
<pre>[(&#39;the&#39;, 0.4072844386100769),
 (&#39;valley&#39;, 0.26327741146087646),
 (&#39;tains&#39;, 0.24817201495170593),
 (&#39;moun¬&#39;, 0.24608737230300903),
 (&#39;valleys&#39;, 0.24509111046791077),
 (&#39;slopes&#39;, 0.2385048121213913),
 (&#39;scattering&#39;, 0.230933278799057),
 (&#39;vale&#39;, 0.22875255346298218),
 (&#39;thè&#39;, 0.22438961267471313),
 (&#39;mississippi&#39;, 0.22331692278385162),
 (&#39;streams&#39;, 0.22280403971672058),
 (&#39;jerusalem&#39;, 0.22169721126556396),
 (&#39;gospel&#39;, 0.22168537974357605),
 (&#39;respective&#39;, 0.22016343474388123),
 (&#39;farthest&#39;, 0.21819782257080078),
 (&#39;meadows&#39;, 0.2165345996618271),
 (&#39;herds&#39;, 0.21519027650356293),
 (&#39;mists&#39;, 0.21393266320228577),
 (&#39;masts&#39;, 0.21387343108654022),
 (&#39;brightest&#39;, 0.21376776695251465),
 (&#39;ministers&#39;, 0.2136218547821045),
 (&#39;shadows&#39;, 0.21310050785541534),
 (&#39;mountain&#39;, 0.21270513534545898),
 (&#39;scattered&#39;, 0.21241790056228638),
 (&#39;baptist&#39;, 0.21213173866271973),
 (&#39;media&#39;, 0.21073392033576965),
 (&#39;hills&#39;, 0.21020525693893433),
 (&#39;winds&#39;, 0.2093723565340042),
 (&#39;docks&#39;, 0.20929408073425293),
 (&#39;lights&#39;, 0.2034989893436432),
 (&#39;stars&#39;, 0.2022721767425537),
 (&#39;pines&#39;, 0.2011595070362091),
 (&#39;muddy&#39;, 0.20070990920066833),
 (&#39;divide&#39;, 0.19944502413272858),
 (&#39;mountains&#39;, 0.19841521978378296),
 (&#39;occupants&#39;, 0.19810976088047028),
 (&#39;where&#39;, 0.1956874132156372),
 (&#39;tumbled&#39;, 0.19538743793964386),
 (&#39;moaning&#39;, 0.19533118605613708),
 (&#39;river&#39;, 0.19504544138908386),
 (&#39;bend&#39;, 0.19431628286838531),
 (&#39;counting&#39;, 0.19402435421943665),
 (&#39;tbe&#39;, 0.19369351863861084),
 (&#39;banks&#39;, 0.1936747431755066),
 (&#39;its&#39;, 0.19333557784557343),
 (&#39;cluster&#39;, 0.19223465025424957),
 (&#39;decks&#39;, 0.19206947088241577),
 (&#39;merrily&#39;, 0.19153828918933868),
 (&#39;surrounding&#39;, 0.19057691097259521),
 (&#39;oxen&#39;, 0.19050219655036926),
 (&#39;slammed&#39;, 0.19005408883094788),
 (&#39;bells&#39;, 0.19002372026443481),
 (&#39;capitol&#39;, 0.1897474229335785),
 (&#39;northern&#39;, 0.18863141536712646),
 (&#39;their&#39;, 0.188290536403656),
 (&#39;rim&#39;, 0.18829044699668884),
 (&#39;sidewalks&#39;, 0.1882665753364563),
 (&#39;below&#39;, 0.1880074143409729),
 (&#39;vices&#39;, 0.18769559264183044),
 (&#39;moaned&#39;, 0.18760579824447632),
 (&#39;misty&#39;, 0.18757833540439606),
 (&#39;comers&#39;, 0.18750113248825073),
 (&#39;canyon&#39;, 0.187099426984787),
 (&#39;heather&#39;, 0.18674667179584503),
 (&#39;windows&#39;, 0.1865110695362091),
 (&#39;flats&#39;, 0.18637299537658691),
 (&#39;sand&#39;, 0.1863626390695572),
 (&#39;scanned&#39;, 0.1858813464641571),
 (&#39;edges&#39;, 0.18532223999500275),
 (&#39;hull&#39;, 0.18497242033481598),
 (&#39;hotels&#39;, 0.18466272950172424),
 (&#39;sides&#39;, 0.18437007069587708),
 (&#39;outlines&#39;, 0.18428140878677368),
 (&#39;peaks&#39;, 0.18426582217216492),
 (&#39;churches&#39;, 0.18371327221393585),
 (&#39;echoes&#39;, 0.18311123549938202),
 (&#39;fishermen&#39;, 0.18287870287895203),
 (&#39;bars&#39;, 0.18240666389465332),
 (&#39;lands&#39;, 0.182186558842659),
 (&#39;hillside&#39;, 0.18123272061347961),
 (&#39;prettiest&#39;, 0.18121202290058136),
 (&#39;temples&#39;, 0.1809060275554657),
 (&#39;lowest&#39;, 0.18080775439739227),
 (&#39;splashed&#39;, 0.18063654005527496),
 (&#39;waters&#39;, 0.18019592761993408),
 (&#39;glittering&#39;, 0.18019500374794006),
 (&#39;tops&#39;, 0.18009236454963684),
 (&#39;and&#39;, 0.17921043932437897),
 (&#39;harness&#39;, 0.17821215093135834),
 (&#39;litter&#39;, 0.1779126524925232),
 (&#39;flooded&#39;, 0.17727762460708618),
 (&#39;noisily&#39;, 0.176900252699852),
 (&#39;o’er&#39;, 0.17680664360523224),
 (&#39;flakes&#39;, 0.1767731010913849),
 (&#39;hardest&#39;, 0.17674298584461212),
 (&#39;gleaming&#39;, 0.17661555111408234),
 (&#39;seasons&#39;, 0.17647643387317657),
 (&#39;fountains&#39;, 0.1764366328716278),
 (&#39;western&#39;, 0.17631858587265015),
 (&#39;saints&#39;, 0.1760600060224533)]</pre>
</div>

</div>

</div>
</div>

</div>
 


    </div>
  </div>

  </div>


  
    <footer class="footer hidden-print">
      <div class="container">
        <div class="col-md-4">
          <p>
            This website does not host notebooks, it only renders notebooks
            available on other websites.
          </p>
        </div>

        <div class="col-md-4">
          <p>
            Delivered by <a href="http://www.fastly.com/">Fastly</a>,
            Rendered by <a href="https://developer.rackspace.com/?nbviewer=awesome">Rackspace</a>
          </p>
          <p>
            nbviewer GitHub <a href="https://github.com/jupyter/nbviewer">repository</a>.
          </p>
        </div>

        <div class="col-md-4">
          
  
            
              <p>
                nbviewer version:
                <a href="https://github.com/jupyter/nbviewer/commit/38e181afeec4b7527a8a13ef7c3814e36045244c">
                  38e181a
                </a>
              </p>
            
          
  
  <p>
    nbconvert version: <a href="https://github.com/jupyter/nbconvert/releases/tag/5.3.1">
      5.3.1
    </a>
  </p>
  

          
  
  
  <p>
    Rendered
    <span class='date' data-date='Fri, 27 Apr 2018 01:04:32 UTC' title='Fri, 27 Apr 2018 01:04:32 UTC'>(Fri, 27 Apr 2018 01:04:32 UTC)</span>
  </p>
  

        </div>
      </div>
    </footer>
  

  <script src="/static/components/bootstrap/js/bootstrap.min.js?v=5869c96cc8f19086aee625d670d741f9"></script>
  <script src="/static/components/headroom.js/dist/headroom.min.js?v=b0a311ea668f8e768ea375f4a7abb81c"></script>
  <script src="/static/components/headroom.js/dist/jQuery.headroom.min.js?v=f3a1bae118315d0c234afc74dc6aab71"></script>

  
  
  <script>
    $(function(){ $("#menubar").headroom({
      tolerance: 5,
      offset: 205,
      classes: {
        initial: "animated",
        pinned: "slideInDown",
        unpinned: "slideOutUp"
      }
    })});
  </script>


  
  <script>
    (function(i,s,o,g,r,a,m){i['GoogleAnalyticsObject']=r;i[r]=i[r]||function(){
      (i[r].q=i[r].q||[]).push(arguments)},i[r].l=1*new Date();a=s.createElement(o),
      m=s.getElementsByTagName(o)[0];a.async=1;a.src=g;m.parentNode.insertBefore(a,m)
    })(window,document,'script','https://www.google-analytics.com/analytics.js','ga');
    ga('create', 'UA-52617120-5', 'auto',
       {'storage': 'none'});
    ga('set', 'anonymizeIp', true);
    ga('send', 'pageview');
  </script>
  
  <script>
    require({
        paths: {
          moment: "/static/components/moment/min/moment.min.js?v=89f87298ad94aa1e6b92f42eb66da043"
        }
      }, ["moment"], function(moment){
      var date = $("footer .date"),
        m = moment(new Date(date.data('date'))),
        update = function(){ date.text(m.fromNow()); };
      setInterval(update, 61*1000);
      update();
      var w = $(window).scroll(function(event){
        $("body").toggleClass("scrolled", w.scrollTop() > 0);
      });
    });
  </script>

  <!--NEW RELIC Stop Perf Measurement-->
  
  <!--NEW RELIC End-->
</body>
</html>