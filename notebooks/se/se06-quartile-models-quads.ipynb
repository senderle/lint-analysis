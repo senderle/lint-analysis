{
 "cells": [
  {
   "cell_type": "markdown",
   "metadata": {},
   "source": [
    "# Loading Word Counts"
   ]
  },
  {
   "cell_type": "code",
   "execution_count": 16,
   "metadata": {},
   "outputs": [],
   "source": [
    "import matplotlib as mpl\n",
    "import matplotlib.pyplot as plt\n",
    "import seaborn as sns\n",
    "\n",
    "mpl.style.use('seaborn-muted')\n",
    "sns.set(style=\"whitegrid\")\n",
    "\n",
    "%matplotlib inline"
   ]
  },
  {
   "cell_type": "code",
   "execution_count": 3,
   "metadata": {},
   "outputs": [
    {
     "name": "stderr",
     "output_type": "stream",
     "text": [
      "/Users/enderlej/.virtualenvs/th/lib/python3.6/site-packages/statsmodels/compat/pandas.py:56: FutureWarning: The pandas.core.datetools module is deprecated and will be removed in a future version. Please use the pandas.tseries module instead.\n",
      "  from pandas.core import datetools\n"
     ]
    }
   ],
   "source": [
    "import bz2\n",
    "import os\n",
    "import ujson\n",
    "import attr\n",
    "import re\n",
    "\n",
    "import pandas as pd\n",
    "import numpy as np\n",
    "import statsmodels.api as sm\n",
    "\n",
    "from pprint import pprint\n",
    "from glob import glob\n",
    "from collections import Counter, UserDict\n",
    "from itertools import islice\n",
    "from tqdm import tqdm_notebook\n",
    "from sklearn.linear_model import LogisticRegression\n",
    "from sklearn.naive_bayes import MultinomialNB\n",
    "from sklearn.svm import SVC"
   ]
  },
  {
   "cell_type": "markdown",
   "metadata": {},
   "source": [
    "# Loading .npz vectors, metadata, and terciles"
   ]
  },
  {
   "cell_type": "code",
   "execution_count": 4,
   "metadata": {},
   "outputs": [],
   "source": [
    "count_npz = '../counts/novels.100.npz'\n",
    "feature_name_file = '../counts/10kwords.txt'\n",
    "with open(feature_name_file) as ip:\n",
    "    feature_names = [f.strip() for f in ip]\n",
    "\n",
    "def load_all_counts(path):\n",
    "    files = [os.path.join(path, f) \n",
    "             for f in os.listdir(path) \n",
    "             if f.endswith('.npz')]\n",
    "    collected = {}\n",
    "    for f in files:\n",
    "        collected.update(np.load(f))\n",
    "    return collected"
   ]
  },
  {
   "cell_type": "code",
   "execution_count": 26,
   "metadata": {},
   "outputs": [],
   "source": [
    "md = pd.read_csv('../metadata/novels-metadata.csv',\n",
    "                 index_col='identifier')"
   ]
  },
  {
   "cell_type": "code",
   "execution_count": 6,
   "metadata": {},
   "outputs": [],
   "source": [
    "@attr.s\n",
    "class Dataset:\n",
    "    \n",
    "    root = attr.ib()\n",
    "    \n",
    "    def paths(self):\n",
    "        return glob(os.path.join(self.root, '*.bz2'))\n",
    "    \n",
    "    def novels(self):\n",
    "        for path in tqdm_notebook(self.paths()):\n",
    "            with bz2.open(path) as fh:\n",
    "                for line in fh:\n",
    "                    yield ujson.loads(line)"
   ]
  },
  {
   "cell_type": "code",
   "execution_count": 7,
   "metadata": {},
   "outputs": [],
   "source": [
    "ds = Dataset('../data/top200-3bins.json/')"
   ]
  },
  {
   "cell_type": "code",
   "execution_count": 8,
   "metadata": {},
   "outputs": [
    {
     "data": {
      "application/vnd.jupyter.widget-view+json": {
       "model_id": "48e23994639e4b69b5c100e47b6ce52f"
      }
     },
     "metadata": {},
     "output_type": "display_data"
    },
    {
     "name": "stdout",
     "output_type": "stream",
     "text": [
      "\n"
     ]
    }
   ],
   "source": [
    "novels = list(ds.novels())"
   ]
  },
  {
   "cell_type": "code",
   "execution_count": 9,
   "metadata": {},
   "outputs": [],
   "source": [
    "# This generates quad labels like so:\n",
    "#     2  3\n",
    "#     0  1\n",
    "# 0 == fall, fall\n",
    "# 1 == rise, fall\n",
    "# 2 == fall, rise\n",
    "# 3 == rise, rise\n",
    "\n",
    "def tercile_to_quad(terciles, feature):\n",
    "    t = terciles[feature]\n",
    "    return (t[0] < t[1]) + 2 * (t[1] < t[2]).astype(int)"
   ]
  },
  {
   "cell_type": "code",
   "execution_count": 17,
   "metadata": {},
   "outputs": [],
   "source": [
    "feature_set = sorted(novels[0]['counts'].keys())\n",
    "terciles = {(f, i): {n['identifier']: n['counts'][f][i] for n in novels}\n",
    "            for f in feature_set for i in range(3)}\n",
    "terciles = pd.DataFrame(terciles)"
   ]
  },
  {
   "cell_type": "code",
   "execution_count": 184,
   "metadata": {},
   "outputs": [
    {
     "name": "stdout",
     "output_type": "stream",
     "text": [
      "2\n"
     ]
    }
   ],
   "source": [
    "gender_annotations = {n['identifier']: n['chicago_auth_gender'] \n",
    "                      for n in novels\n",
    "                      if 'chicago_auth_gender' in n}\n",
    "canon_annotations = {n['identifier']: n['chicago_auth_canon']\n",
    "                     for n in novels\n",
    "                     if 'chicago_auth_canon' in n}\n",
    "\n",
    "test_word = 'the'\n",
    "\n",
    "quad = tercile_to_quad(terciles, test_word)\n",
    "test_quad = max(range(4), key=lambda q: (quad == q).sum())\n",
    "print(test_quad)\n",
    "\n",
    "quad = quad.loc[gender_annotations.keys() & canon_annotations.keys()]\n",
    "md = md.loc[quad.index].assign(quad=quad)\n",
    "\n",
    "gender_annotations = [gender_annotations[nid] == 'F' for nid in md.index]\n",
    "md = md.assign(gender_f=gender_annotations)\n",
    "\n",
    "canon_annotations = [canon_annotations[nid] for nid in md.index]\n",
    "md = md.assign(canon_y=canon_annotations)\n",
    "\n",
    "works_available = set(md.index)"
   ]
  },
  {
   "cell_type": "code",
   "execution_count": 170,
   "metadata": {},
   "outputs": [
    {
     "data": {
      "text/html": [
       "<div>\n",
       "<style scoped>\n",
       "    .dataframe tbody tr th:only-of-type {\n",
       "        vertical-align: middle;\n",
       "    }\n",
       "\n",
       "    .dataframe tbody tr th {\n",
       "        vertical-align: top;\n",
       "    }\n",
       "\n",
       "    .dataframe thead th {\n",
       "        text-align: right;\n",
       "    }\n",
       "</style>\n",
       "<table border=\"1\" class=\"dataframe\">\n",
       "  <thead>\n",
       "    <tr style=\"text-align: right;\">\n",
       "      <th></th>\n",
       "      <th>corpus</th>\n",
       "      <th>title</th>\n",
       "      <th>author_first</th>\n",
       "      <th>author_last</th>\n",
       "      <th>pub_year</th>\n",
       "      <th>quad</th>\n",
       "      <th>gender_f</th>\n",
       "      <th>canon_y</th>\n",
       "    </tr>\n",
       "  </thead>\n",
       "  <tbody>\n",
       "    <tr>\n",
       "      <th>24245</th>\n",
       "      <td>chicago</td>\n",
       "      <td>Concourse</td>\n",
       "      <td>S. J</td>\n",
       "      <td>Rozan</td>\n",
       "      <td>1995</td>\n",
       "      <td>0</td>\n",
       "      <td>True</td>\n",
       "      <td>False</td>\n",
       "    </tr>\n",
       "    <tr>\n",
       "      <th>23237</th>\n",
       "      <td>chicago</td>\n",
       "      <td>Soldier of Arete</td>\n",
       "      <td>Gene</td>\n",
       "      <td>Wolfe</td>\n",
       "      <td>1989</td>\n",
       "      <td>1</td>\n",
       "      <td>False</td>\n",
       "      <td>False</td>\n",
       "    </tr>\n",
       "    <tr>\n",
       "      <th>20153</th>\n",
       "      <td>chicago</td>\n",
       "      <td>Unfinished crime</td>\n",
       "      <td>Helen</td>\n",
       "      <td>McCloy</td>\n",
       "      <td>1954</td>\n",
       "      <td>2</td>\n",
       "      <td>True</td>\n",
       "      <td>False</td>\n",
       "    </tr>\n",
       "    <tr>\n",
       "      <th>23088</th>\n",
       "      <td>chicago</td>\n",
       "      <td>Frequent flyer</td>\n",
       "      <td>Kinky</td>\n",
       "      <td>Friedman</td>\n",
       "      <td>1989</td>\n",
       "      <td>0</td>\n",
       "      <td>False</td>\n",
       "      <td>False</td>\n",
       "    </tr>\n",
       "    <tr>\n",
       "      <th>24719</th>\n",
       "      <td>chicago</td>\n",
       "      <td>The ballad of Frankie Silver</td>\n",
       "      <td>Sharyn</td>\n",
       "      <td>McCrumb</td>\n",
       "      <td>1998</td>\n",
       "      <td>2</td>\n",
       "      <td>True</td>\n",
       "      <td>False</td>\n",
       "    </tr>\n",
       "    <tr>\n",
       "      <th>25218</th>\n",
       "      <td>chicago</td>\n",
       "      <td>A dance at the slaughterhouse</td>\n",
       "      <td>Lawrence</td>\n",
       "      <td>Block</td>\n",
       "      <td>1991</td>\n",
       "      <td>2</td>\n",
       "      <td>False</td>\n",
       "      <td>False</td>\n",
       "    </tr>\n",
       "    <tr>\n",
       "      <th>21183</th>\n",
       "      <td>chicago</td>\n",
       "      <td>Great Maria</td>\n",
       "      <td>Cecelia</td>\n",
       "      <td>Holland</td>\n",
       "      <td>1974</td>\n",
       "      <td>0</td>\n",
       "      <td>True</td>\n",
       "      <td>False</td>\n",
       "    </tr>\n",
       "    <tr>\n",
       "      <th>23451</th>\n",
       "      <td>chicago</td>\n",
       "      <td>Dragon wing</td>\n",
       "      <td>Margaret</td>\n",
       "      <td>Weis</td>\n",
       "      <td>1990</td>\n",
       "      <td>2</td>\n",
       "      <td>True</td>\n",
       "      <td>False</td>\n",
       "    </tr>\n",
       "    <tr>\n",
       "      <th>23460</th>\n",
       "      <td>chicago</td>\n",
       "      <td>Pandora by Holly Hollander</td>\n",
       "      <td>Gene</td>\n",
       "      <td>Wolfe</td>\n",
       "      <td>1990</td>\n",
       "      <td>2</td>\n",
       "      <td>False</td>\n",
       "      <td>False</td>\n",
       "    </tr>\n",
       "    <tr>\n",
       "      <th>25204</th>\n",
       "      <td>chicago</td>\n",
       "      <td>A beer at a bawdy house</td>\n",
       "      <td>David J.</td>\n",
       "      <td>Walker</td>\n",
       "      <td>2000</td>\n",
       "      <td>0</td>\n",
       "      <td>False</td>\n",
       "      <td>False</td>\n",
       "    </tr>\n",
       "  </tbody>\n",
       "</table>\n",
       "</div>"
      ],
      "text/plain": [
       "        corpus                          title author_first author_last  \\\n",
       "24245  chicago                      Concourse         S. J       Rozan   \n",
       "23237  chicago               Soldier of Arete         Gene       Wolfe   \n",
       "20153  chicago               Unfinished crime        Helen      McCloy   \n",
       "23088  chicago                 Frequent flyer        Kinky    Friedman   \n",
       "24719  chicago   The ballad of Frankie Silver       Sharyn     McCrumb   \n",
       "25218  chicago  A dance at the slaughterhouse     Lawrence       Block   \n",
       "21183  chicago                    Great Maria      Cecelia     Holland   \n",
       "23451  chicago                    Dragon wing     Margaret        Weis   \n",
       "23460  chicago     Pandora by Holly Hollander         Gene       Wolfe   \n",
       "25204  chicago        A beer at a bawdy house     David J.      Walker   \n",
       "\n",
       "       pub_year  quad  gender_f  canon_y  \n",
       "24245      1995     0      True    False  \n",
       "23237      1989     1     False    False  \n",
       "20153      1954     2      True    False  \n",
       "23088      1989     0     False    False  \n",
       "24719      1998     2      True    False  \n",
       "25218      1991     2     False    False  \n",
       "21183      1974     0      True    False  \n",
       "23451      1990     2      True    False  \n",
       "23460      1990     2     False    False  \n",
       "25204      2000     0     False    False  "
      ]
     },
     "execution_count": 170,
     "metadata": {},
     "output_type": "execute_result"
    }
   ],
   "source": [
    "md.iloc[0:10]"
   ]
  },
  {
   "cell_type": "code",
   "execution_count": 177,
   "metadata": {},
   "outputs": [],
   "source": [
    "features = load_all_counts(count_npz)\n",
    "features = {k: v for k, v in features.items() if k in works_available}\n",
    "features = pd.DataFrame(features).transpose()\n",
    "features.columns = feature_names\n",
    "features = features.loc[quad.index]\n",
    "assert (features.index == md.index).all()\n",
    "features.insert(loc=0, column='_gender_f', value=md.gender_f.values.astype(float))\n",
    "# features.insert(loc=0, column='_canon_y', value=md.canon_y.values.astype(float))\n",
    "# features = features.drop(columns=[test_word])"
   ]
  },
  {
   "cell_type": "markdown",
   "metadata": {},
   "source": [
    "# Constructing a cross-validation dataset"
   ]
  },
  {
   "cell_type": "code",
   "execution_count": 178,
   "metadata": {},
   "outputs": [],
   "source": [
    "c0_sel, = (md['quad'] == test_quad).values.nonzero()\n",
    "c1_sel, = (md['quad'] != test_quad).values.nonzero()\n",
    "min_samples = min([len(s) for s in (c0_sel, c1_sel)])\n",
    "n_cv_samples = 4000\n",
    "np.random.seed(1000)\n",
    "np.random.shuffle(c0_sel)\n",
    "np.random.shuffle(c1_sel)\n",
    "cvdata = np.hstack([c0_sel[0:n_cv_samples // 2], \n",
    "                    c1_sel[0:n_cv_samples // 2]])\n",
    "np.random.shuffle(cvdata)\n",
    "cvdata_md = md.iloc[cvdata]\n",
    "cvdata_features = features.iloc[cvdata]"
   ]
  },
  {
   "cell_type": "markdown",
   "metadata": {},
   "source": [
    "# Logistic regression (easy test)"
   ]
  },
  {
   "cell_type": "code",
   "execution_count": 179,
   "metadata": {},
   "outputs": [
    {
     "data": {
      "text/plain": [
       "0.998"
      ]
     },
     "execution_count": 179,
     "metadata": {},
     "output_type": "execute_result"
    }
   ],
   "source": [
    "n_features = 1000\n",
    "n_train = len(cvdata_features) // 4 * 3\n",
    "predict_key = 'gender_f'\n",
    "predict_val = True\n",
    "\n",
    "X = cvdata_features.iloc[:n_train].values[:, :n_features]\n",
    "X_mean = X.mean(axis=0)\n",
    "X_std = X.std(axis=0)\n",
    "X = (X - X_mean) / X_std\n",
    "y = (cvdata_md.iloc[:n_train][predict_key] == predict_val).values.astype(float)\n",
    "X_test = cvdata_features.iloc[n_train:].values[:, :n_features]\n",
    "X_test = (X_test - X_mean) / X_std\n",
    "y_test = (cvdata_md.iloc[n_train:][predict_key] == predict_val).values.astype(float)\n",
    "\n",
    "lr = LogisticRegression(C=1.0)\n",
    "lr.fit(X, y)\n",
    "lr.score(X_test, y_test)\n"
   ]
  },
  {
   "cell_type": "markdown",
   "metadata": {},
   "source": [
    "# Logistic regression (real test)"
   ]
  },
  {
   "cell_type": "code",
   "execution_count": 180,
   "metadata": {},
   "outputs": [
    {
     "data": {
      "text/plain": [
       "0.522"
      ]
     },
     "execution_count": 180,
     "metadata": {},
     "output_type": "execute_result"
    }
   ],
   "source": [
    "n_features = 1000\n",
    "n_train = len(cvdata_features) // 4 * 3\n",
    "predict_key = 'quad'\n",
    "predict_val = test_quad\n",
    "\n",
    "X = cvdata_features.iloc[:n_train].values[:, :n_features]\n",
    "X_mean = X.mean(axis=0)\n",
    "X_std = X.std(axis=0)\n",
    "X = (X - X_mean) / X_std\n",
    "y = (cvdata_md.iloc[:n_train][predict_key] == predict_val).values.astype(float)\n",
    "X_test = cvdata_features.iloc[n_train:].values[:, :n_features]\n",
    "X_test = (X_test - X_mean) / X_std\n",
    "y_test = (cvdata_md.iloc[n_train:][predict_key] == predict_val).values.astype(float)\n",
    "\n",
    "lr = LogisticRegression(C=0.00003)\n",
    "lr.fit(X, y)\n",
    "lr.score(X_test, y_test)"
   ]
  },
  {
   "cell_type": "code",
   "execution_count": 181,
   "metadata": {},
   "outputs": [
    {
     "data": {
      "text/plain": [
       "Index(['_gender_f', ',', '.', 'a', 'in', 'to', 'the', 'of', 'and', 'it'], dtype='object')"
      ]
     },
     "execution_count": 181,
     "metadata": {},
     "output_type": "execute_result"
    }
   ],
   "source": [
    "cvdata_features.columns[0:10]"
   ]
  },
  {
   "cell_type": "markdown",
   "metadata": {},
   "source": [
    "# Support vector machine (easy test)"
   ]
  },
  {
   "cell_type": "code",
   "execution_count": 182,
   "metadata": {},
   "outputs": [
    {
     "data": {
      "text/plain": [
       "0.985"
      ]
     },
     "execution_count": 182,
     "metadata": {},
     "output_type": "execute_result"
    }
   ],
   "source": [
    "n_features = 1000\n",
    "n_train = len(cvdata_features) // 4 * 3\n",
    "predict_key = 'gender_f'\n",
    "predict_val = True\n",
    "\n",
    "X = cvdata_features.iloc[:n_train].values[:, :n_features]\n",
    "X_mean = X.mean(axis=0)\n",
    "X_std = X.std(axis=0)\n",
    "X = (X - X_mean) / X_std\n",
    "y = (cvdata_md.iloc[:n_train][predict_key] == predict_val).values.astype(float)\n",
    "X_test = cvdata_features.iloc[n_train:].values[:, :n_features]\n",
    "X_test = (X_test - X_mean) / X_std\n",
    "y_test = (cvdata_md.iloc[n_train:][predict_key] == predict_val).values.astype(float)\n",
    "\n",
    "lr = SVC(C=1.0)\n",
    "lr.fit(X, y)\n",
    "lr.score(X_test, y_test)"
   ]
  },
  {
   "cell_type": "markdown",
   "metadata": {},
   "source": [
    "# Support vector machine (real test)"
   ]
  },
  {
   "cell_type": "code",
   "execution_count": 183,
   "metadata": {},
   "outputs": [
    {
     "data": {
      "text/plain": [
       "0.53"
      ]
     },
     "execution_count": 183,
     "metadata": {},
     "output_type": "execute_result"
    }
   ],
   "source": [
    "n_features = 1000\n",
    "n_train = len(cvdata_features) // 4 * 3\n",
    "predict_key = 'quad'\n",
    "predict_val = test_quad\n",
    "\n",
    "X = cvdata_features.iloc[:n_train].values[:, :n_features]\n",
    "X_mean = X.mean(axis=0)\n",
    "X_std = X.std(axis=0)\n",
    "X = (X - X_mean) / X_std\n",
    "y = (cvdata_md.iloc[:n_train][predict_key] == predict_val).values.astype(float)\n",
    "X_test = cvdata_features.iloc[n_train:].values[:, :n_features]\n",
    "X_test = (X_test - X_mean) / X_std\n",
    "y_test = (cvdata_md.iloc[n_train:][predict_key] == predict_val).values.astype(float)\n",
    "\n",
    "lr = SVC(C=1.0)\n",
    "lr.fit(X, y)\n",
    "lr.score(X_test, y_test)"
   ]
  },
  {
   "cell_type": "markdown",
   "metadata": {},
   "source": [
    "# MultinomialNB (easy test)"
   ]
  },
  {
   "cell_type": "code",
   "execution_count": 79,
   "metadata": {},
   "outputs": [
    {
     "data": {
      "text/plain": [
       "0.766"
      ]
     },
     "execution_count": 79,
     "metadata": {},
     "output_type": "execute_result"
    }
   ],
   "source": [
    "n_features = 1000\n",
    "n_train = len(cvdata_features) // 4 * 3\n",
    "predict_key = 'gender_f'\n",
    "predict_val = True\n",
    "\n",
    "X = cvdata_features.iloc[:n_train].values[:, :n_features]\n",
    "y = (cvdata_md.iloc[:n_train][predict_key] == predict_val).values.astype(float)\n",
    "X_test = cvdata_features.iloc[n_train:].values[:, :n_features]\n",
    "y_test = (cvdata_md.iloc[n_train:][predict_key] == predict_val).values.astype(float)\n",
    "\n",
    "lr = MultinomialNB()\n",
    "lr.fit(X, y)\n",
    "lr.score(X_test, y_test)"
   ]
  },
  {
   "cell_type": "markdown",
   "metadata": {},
   "source": [
    "# MultinomialNB (real test)"
   ]
  },
  {
   "cell_type": "code",
   "execution_count": 80,
   "metadata": {},
   "outputs": [
    {
     "data": {
      "text/plain": [
       "0.556"
      ]
     },
     "execution_count": 80,
     "metadata": {},
     "output_type": "execute_result"
    }
   ],
   "source": [
    "n_features = 1000\n",
    "n_train = len(cvdata_features) // 4 * 3\n",
    "predict_key = 'quad'\n",
    "predict_val = test_quad\n",
    "\n",
    "X = cvdata_features.iloc[:n_train].values[:, :n_features]\n",
    "y = (cvdata_md.iloc[:n_train][predict_key] == predict_val).values.astype(float)\n",
    "X_test = cvdata_features.iloc[n_train:].values[:, :n_features]\n",
    "y_test = (cvdata_md.iloc[n_train:][predict_key] == predict_val).values.astype(float)\n",
    "\n",
    "lr = MultinomialNB()\n",
    "lr.fit(X, y)\n",
    "lr.score(X_test, y_test)"
   ]
  },
  {
   "cell_type": "code",
   "execution_count": null,
   "metadata": {},
   "outputs": [],
   "source": []
  },
  {
   "cell_type": "code",
   "execution_count": null,
   "metadata": {},
   "outputs": [],
   "source": []
  }
 ],
 "metadata": {
  "kernelspec": {
   "display_name": "Python 3",
   "language": "python",
   "name": "python3"
  },
  "language_info": {
   "codemirror_mode": {
    "name": "ipython",
    "version": 3
   },
   "file_extension": ".py",
   "mimetype": "text/x-python",
   "name": "python",
   "nbconvert_exporter": "python",
   "pygments_lexer": "ipython3",
   "version": "3.6.1"
  }
 },
 "nbformat": 4,
 "nbformat_minor": 2
}
