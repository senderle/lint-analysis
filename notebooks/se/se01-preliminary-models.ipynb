{
 "cells": [
  {
   "cell_type": "markdown",
   "metadata": {},
   "source": [
    "# Loading Word Counts"
   ]
  },
  {
   "cell_type": "code",
   "execution_count": 1,
   "metadata": {},
   "outputs": [],
   "source": [
    "import matplotlib as mpl\n",
    "import matplotlib.pyplot as plt\n",
    "import seaborn as sns\n",
    "\n",
    "mpl.style.use('seaborn-muted')\n",
    "sns.set(style=\"whitegrid\")\n",
    "\n",
    "%matplotlib inline"
   ]
  },
  {
   "cell_type": "code",
   "execution_count": 88,
   "metadata": {},
   "outputs": [],
   "source": [
    "import bz2\n",
    "import os\n",
    "import ujson\n",
    "import attr\n",
    "import re\n",
    "\n",
    "import pandas as pd\n",
    "import numpy as np\n",
    "import statsmodels.api as sm\n",
    "\n",
    "from glob import glob\n",
    "from collections import Counter, UserDict\n",
    "from itertools import islice\n",
    "from tqdm import tqdm_notebook\n",
    "from sklearn.linear_model import LinearRegression\n",
    "from sklearn.svm import SVC"
   ]
  },
  {
   "cell_type": "markdown",
   "metadata": {},
   "source": [
    "# Loading .npz vectors and metadata"
   ]
  },
  {
   "cell_type": "code",
   "execution_count": 3,
   "metadata": {},
   "outputs": [],
   "source": [
    "count_npz = 'counts/novels.100.npz'\n",
    "\n",
    "def load_all_counts(path):\n",
    "    files = [os.path.join(path, f) \n",
    "             for f in os.listdir(path) \n",
    "             if f.endswith('.npz')]\n",
    "    collected = {}\n",
    "    for f in files:\n",
    "        collected.update(np.load(f))\n",
    "    return collected"
   ]
  },
  {
   "cell_type": "code",
   "execution_count": 168,
   "metadata": {},
   "outputs": [],
   "source": [
    "md = pd.read_csv('metadata/novels-metadata-risinga-coefs.csv',\n",
    "                 index_col='ix')\n",
    "rising_a = md['coef'] > 0\n",
    "rising_a_p05 = rising_a & (md['p'] < 0.05)\n",
    "falling_a = md['coef'] < 0\n",
    "falling_a_p05 = falling_a & (md['p'] < 0.05)\n",
    "md = md.assign(rising_a=rising_a,\n",
    "               rising_a_p05=rising_a_p05,\n",
    "               falling_a=falling_a,\n",
    "               falling_a_p05=falling_a_p05)\n",
    "identifiers = set(md['identifier'])"
   ]
  },
  {
   "cell_type": "code",
   "execution_count": 169,
   "metadata": {},
   "outputs": [
    {
     "data": {
      "text/plain": [
       "5096"
      ]
     },
     "execution_count": 169,
     "metadata": {},
     "output_type": "execute_result"
    }
   ],
   "source": [
    "rising_a.sum()"
   ]
  },
  {
   "cell_type": "code",
   "execution_count": 170,
   "metadata": {},
   "outputs": [],
   "source": [
    "features = load_all_counts(count_npz)\n",
    "features = {k: v for k, v in features.items() if k in identifiers}\n",
    "features = pd.DataFrame(cl).transpose()"
   ]
  },
  {
   "cell_type": "markdown",
   "metadata": {},
   "source": [
    "# Constructing a cross-validation dataset"
   ]
  },
  {
   "cell_type": "code",
   "execution_count": 171,
   "metadata": {},
   "outputs": [],
   "source": [
    "# pos_sel, = (md['falling_a'] == True).values.nonzero()\n",
    "# neg_sel, = (md['falling_a'] == False).values.nonzero()\n",
    "pos_sel, = (md['falling_a_p05'] == True).values.nonzero()\n",
    "neg_sel, = (md['rising_a'] == True).values.nonzero()\n",
    "n_cv_samples = 8000\n",
    "np.random.seed(1000)\n",
    "np.random.shuffle(pos_sel)\n",
    "np.random.shuffle(neg_sel)\n",
    "cvdata = np.hstack([pos_sel[0:n_cv_samples // 2], neg_sel[0:n_cv_samples // 2]])\n",
    "np.random.shuffle(cvdata)\n",
    "cvdata_md = md.iloc[cvdata]\n",
    "cvdata_features = features.iloc[cvdata]"
   ]
  },
  {
   "cell_type": "markdown",
   "metadata": {},
   "source": [
    "# Sanity check -- are labels correct?"
   ]
  },
  {
   "cell_type": "code",
   "execution_count": 172,
   "metadata": {
    "scrolled": false
   },
   "outputs": [
    {
     "data": {
      "application/vnd.jupyter.widget-view+json": {
       "model_id": "1ea03478afee4f36a976f8513542cc09"
      }
     },
     "metadata": {},
     "output_type": "display_data"
    },
    {
     "name": "stdout",
     "output_type": "stream",
     "text": [
      "\n",
      "\n",
      "----------------------\n",
      "Regression for 'a' in 10156:\n",
      "\n",
      "                            OLS Regression Results                            \n",
      "==============================================================================\n",
      "Dep. Variable:                      y   R-squared:                       0.206\n",
      "Model:                            OLS   Adj. R-squared:                  0.162\n",
      "Method:                 Least Squares   F-statistic:                     4.684\n",
      "Date:                Tue, 17 Apr 2018   Prob (F-statistic):             0.0441\n",
      "Time:                        13:25:55   Log-Likelihood:                -83.590\n",
      "No. Observations:                  20   AIC:                             171.2\n",
      "Df Residuals:                      18   BIC:                             173.2\n",
      "Df Model:                           1                                         \n",
      "Covariance Type:            nonrobust                                         \n",
      "==============================================================================\n",
      "                 coef    std err          t      P>|t|      [0.025      0.975]\n",
      "------------------------------------------------------------------------------\n",
      "const        120.7857      7.181     16.820      0.000     105.698     135.873\n",
      "x1            -1.3985      0.646     -2.164      0.044      -2.756      -0.041\n",
      "==============================================================================\n",
      "Omnibus:                        0.844   Durbin-Watson:                   1.832\n",
      "Prob(Omnibus):                  0.656   Jarque-Bera (JB):                0.802\n",
      "Skew:                           0.408   Prob(JB):                        0.670\n",
      "Kurtosis:                       2.455   Cond. No.                         21.5\n",
      "==============================================================================\n",
      "\n",
      "Warnings:\n",
      "[1] Standard Errors assume that the covariance matrix of the errors is correctly specified.\n",
      "Plot:\n"
     ]
    },
    {
     "data": {
      "image/png": "[encoded data removed]",
      "text/plain": [
       "<matplotlib.figure.Figure at 0x1940edac8>"
      ]
     },
     "metadata": {},
     "output_type": "display_data"
    },
    {
     "name": "stdout",
     "output_type": "stream",
     "text": [
      "----------------------\n",
      "\n",
      "\n",
      "----------------------\n",
      "Regression for 'a' in AMFCF0002-C00000-B0924000:\n",
      "\n",
      "                            OLS Regression Results                            \n",
      "==============================================================================\n",
      "Dep. Variable:                      y   R-squared:                       0.211\n",
      "Model:                            OLS   Adj. R-squared:                  0.167\n",
      "Method:                 Least Squares   F-statistic:                     4.807\n",
      "Date:                Tue, 17 Apr 2018   Prob (F-statistic):             0.0417\n",
      "Time:                        13:25:55   Log-Likelihood:                -68.475\n",
      "No. Observations:                  20   AIC:                             140.9\n",
      "Df Residuals:                      18   BIC:                             142.9\n",
      "Df Model:                           1                                         \n",
      "Covariance Type:            nonrobust                                         \n",
      "==============================================================================\n",
      "                 coef    std err          t      P>|t|      [0.025      0.975]\n",
      "------------------------------------------------------------------------------\n",
      "const         45.2714      3.373     13.423      0.000      38.186      52.357\n",
      "x1            -0.6654      0.303     -2.193      0.042      -1.303      -0.028\n",
      "==============================================================================\n",
      "Omnibus:                        1.432   Durbin-Watson:                   2.064\n",
      "Prob(Omnibus):                  0.489   Jarque-Bera (JB):                1.216\n",
      "Skew:                           0.450   Prob(JB):                        0.545\n",
      "Kurtosis:                       2.194   Cond. No.                         21.5\n",
      "==============================================================================\n",
      "\n",
      "Warnings:\n",
      "[1] Standard Errors assume that the covariance matrix of the errors is correctly specified.\n",
      "Plot:\n"
     ]
    },
    {
     "data": {
      "image/png": "[encoded data removed]",
      "text/plain": [
       "<matplotlib.figure.Figure at 0x193f61ac8>"
      ]
     },
     "metadata": {},
     "output_type": "display_data"
    },
    {
     "name": "stdout",
     "output_type": "stream",
     "text": [
      "----------------------\n",
      "\n",
      "\n",
      "----------------------\n",
      "Regression for 'a' in AMFCF0002-C00000-B0616900:\n",
      "\n",
      "                            OLS Regression Results                            \n",
      "==============================================================================\n",
      "Dep. Variable:                      y   R-squared:                       0.457\n",
      "Model:                            OLS   Adj. R-squared:                  0.427\n",
      "Method:                 Least Squares   F-statistic:                     15.16\n",
      "Date:                Tue, 17 Apr 2018   Prob (F-statistic):            0.00106\n",
      "Time:                        13:25:56   Log-Likelihood:                -71.605\n",
      "No. Observations:                  20   AIC:                             147.2\n",
      "Df Residuals:                      18   BIC:                             149.2\n",
      "Df Model:                           1                                         \n",
      "Covariance Type:            nonrobust                                         \n",
      "==============================================================================\n",
      "                 coef    std err          t      P>|t|      [0.025      0.975]\n",
      "------------------------------------------------------------------------------\n",
      "const         90.0286      3.944     22.826      0.000      81.742      98.315\n",
      "x1            -1.3820      0.355     -3.894      0.001      -2.128      -0.636\n",
      "==============================================================================\n",
      "Omnibus:                        0.463   Durbin-Watson:                   1.581\n",
      "Prob(Omnibus):                  0.794   Jarque-Bera (JB):                0.357\n",
      "Skew:                           0.290   Prob(JB):                        0.836\n",
      "Kurtosis:                       2.697   Cond. No.                         21.5\n",
      "==============================================================================\n",
      "\n",
      "Warnings:\n",
      "[1] Standard Errors assume that the covariance matrix of the errors is correctly specified.\n",
      "Plot:\n"
     ]
    },
    {
     "data": {
      "image/png": "[encoded data removed]",
      "text/plain": [
       "<matplotlib.figure.Figure at 0x193ed8550>"
      ]
     },
     "metadata": {},
     "output_type": "display_data"
    },
    {
     "name": "stdout",
     "output_type": "stream",
     "text": [
      "----------------------\n",
      "\n",
      "\n",
      "----------------------\n",
      "Regression for 'a' in 25857:\n",
      "\n",
      "                            OLS Regression Results                            \n",
      "==============================================================================\n",
      "Dep. Variable:                      y   R-squared:                       0.321\n",
      "Model:                            OLS   Adj. R-squared:                  0.283\n",
      "Method:                 Least Squares   F-statistic:                     8.517\n",
      "Date:                Tue, 17 Apr 2018   Prob (F-statistic):            0.00917\n",
      "Time:                        13:25:57   Log-Likelihood:                -87.037\n",
      "No. Observations:                  20   AIC:                             178.1\n",
      "Df Residuals:                      18   BIC:                             180.1\n",
      "Df Model:                           1                                         \n",
      "Covariance Type:            nonrobust                                         \n",
      "==============================================================================\n",
      "                 coef    std err          t      P>|t|      [0.025      0.975]\n",
      "------------------------------------------------------------------------------\n",
      "const        177.9857      8.532     20.861      0.000     160.060     195.911\n",
      "x1            -2.2406      0.768     -2.918      0.009      -3.854      -0.628\n",
      "==============================================================================\n",
      "Omnibus:                        6.463   Durbin-Watson:                   1.217\n",
      "Prob(Omnibus):                  0.040   Jarque-Bera (JB):                3.966\n",
      "Skew:                           0.959   Prob(JB):                        0.138\n",
      "Kurtosis:                       4.040   Cond. No.                         21.5\n",
      "==============================================================================\n",
      "\n",
      "Warnings:\n",
      "[1] Standard Errors assume that the covariance matrix of the errors is correctly specified.\n",
      "Plot:\n"
     ]
    },
    {
     "data": {
      "image/png": "[encoded data removed]",
      "text/plain": [
       "<matplotlib.figure.Figure at 0x20004d710>"
      ]
     },
     "metadata": {},
     "output_type": "display_data"
    },
    {
     "name": "stdout",
     "output_type": "stream",
     "text": [
      "----------------------\n",
      "\n",
      "\n",
      "----------------------\n",
      "Regression for 'a' in AMFCF0002-C00000-B0339600:\n",
      "\n",
      "                            OLS Regression Results                            \n",
      "==============================================================================\n",
      "Dep. Variable:                      y   R-squared:                       0.340\n",
      "Model:                            OLS   Adj. R-squared:                  0.303\n",
      "Method:                 Least Squares   F-statistic:                     9.265\n",
      "Date:                Tue, 17 Apr 2018   Prob (F-statistic):            0.00699\n",
      "Time:                        13:25:58   Log-Likelihood:                -74.911\n",
      "No. Observations:                  20   AIC:                             153.8\n",
      "Df Residuals:                      18   BIC:                             155.8\n",
      "Df Model:                           1                                         \n",
      "Covariance Type:            nonrobust                                         \n",
      "==============================================================================\n",
      "                 coef    std err          t      P>|t|      [0.025      0.975]\n",
      "------------------------------------------------------------------------------\n",
      "const        118.9571      4.653     25.565      0.000     109.181     128.733\n",
      "x1            -1.2744      0.419     -3.044      0.007      -2.154      -0.395\n",
      "==============================================================================\n",
      "Omnibus:                        2.699   Durbin-Watson:                   1.244\n",
      "Prob(Omnibus):                  0.259   Jarque-Bera (JB):                1.276\n",
      "Skew:                           0.211   Prob(JB):                        0.528\n",
      "Kurtosis:                       1.837   Cond. No.                         21.5\n",
      "==============================================================================\n",
      "\n",
      "Warnings:\n",
      "[1] Standard Errors assume that the covariance matrix of the errors is correctly specified.\n",
      "Plot:\n"
     ]
    },
    {
     "data": {
      "image/png": "[encoded data removed]",
      "text/plain": [
       "<matplotlib.figure.Figure at 0x194441240>"
      ]
     },
     "metadata": {},
     "output_type": "display_data"
    },
    {
     "name": "stdout",
     "output_type": "stream",
     "text": [
      "----------------------\n",
      "\n"
     ]
    }
   ],
   "source": [
    "@attr.s\n",
    "class Dataset:\n",
    "    \n",
    "    root = attr.ib()\n",
    "    \n",
    "    def paths(self):\n",
    "        return glob(os.path.join(self.root, '*.bz2'))\n",
    "    \n",
    "    def novels(self):\n",
    "        for path in tqdm_notebook(self.paths()):\n",
    "            with bz2.open(path) as fh:\n",
    "                for line in fh:\n",
    "                    yield ujson.loads(line)\n",
    "\n",
    "ds = Dataset('data/a-the-and-or.json/')\n",
    "countmap = {\n",
    "    novel['identifier']: np.array(novel['counts']['a'])\n",
    "    for novel in ds.novels()\n",
    "    if sum(novel['counts']['a'])\n",
    "}\n",
    "\n",
    "def lin_reg(counts):\n",
    "    x = np.arange(len(counts))\n",
    "    x = sm.add_constant(x)\n",
    "    reg = sm.OLS(counts, x)\n",
    "    return reg, reg.fit()\n",
    "\n",
    "def plot_lin_reg(reg, fit):\n",
    "    \n",
    "    pred = fit.predict()\n",
    "    x1 = reg.exog[0][1]\n",
    "    x2 = reg.exog[-1][1]\n",
    "    y1 = pred[0]\n",
    "    y2 = pred[-1]\n",
    "    \n",
    "    plt.figure(figsize=(4,2))\n",
    "    plt.plot([x1, x2], [y1, y2], color='gray', linewidth=0.5)\n",
    "    plt.plot(reg.endog)\n",
    "    plt.show()\n",
    "\n",
    "for ix in pos_sel[:5]:\n",
    "    n_id = md.iloc[ix]['identifier']\n",
    "    if n_id in countmap:\n",
    "        c = countmap[n_id]\n",
    "        reg, fit = lin_reg(c)\n",
    "        print()\n",
    "        print('----------------------')\n",
    "        print('Regression for \\'a\\' in {}:'.format(n_id))\n",
    "        print()\n",
    "        print(fit.summary())\n",
    "        print('Plot:')\n",
    "        plot_lin_reg(reg, fit)\n",
    "        print('----------------------')\n",
    "        print()\n",
    "    else:\n",
    "        print()\n",
    "        print('----------------------')\n",
    "        print('{} not found in countmap?'.format(n_id))\n",
    "        print('----------------------')\n",
    "        print()\n"
   ]
  },
  {
   "cell_type": "markdown",
   "metadata": {},
   "source": [
    "# Logistic regression (easy test)"
   ]
  },
  {
   "cell_type": "code",
   "execution_count": 173,
   "metadata": {},
   "outputs": [
    {
     "data": {
      "text/plain": [
       "0.654"
      ]
     },
     "execution_count": 173,
     "metadata": {},
     "output_type": "execute_result"
    }
   ],
   "source": [
    "n_features = 1000\n",
    "n_train = len(cvdata_features) // 4 * 3\n",
    "predict_key = 'corpus'\n",
    "predict_val = 'chicago'\n",
    "\n",
    "X = cvdata_features.iloc[:n_train].values[:, :n_features]\n",
    "y = (cvdata_md.iloc[:n_train][predict_key] == predict_val).values.astype(float)\n",
    "X_test = cvdata_features.iloc[n_train:].values[:, :n_features]\n",
    "y_test = (cvdata_md.iloc[n_train:][predict_key] == predict_val).values.astype(float)\n",
    "\n",
    "lr = LogisticRegression(C=1.0)\n",
    "lr.fit(X, y)\n",
    "lr.score(X_test, y_test)\n"
   ]
  },
  {
   "cell_type": "markdown",
   "metadata": {},
   "source": [
    "# Logistic regression (real test)"
   ]
  },
  {
   "cell_type": "code",
   "execution_count": 174,
   "metadata": {},
   "outputs": [
    {
     "data": {
      "text/plain": [
       "0.488"
      ]
     },
     "execution_count": 174,
     "metadata": {},
     "output_type": "execute_result"
    }
   ],
   "source": [
    "n_features = 1000\n",
    "n_train = len(cvdata_features) // 4 * 3\n",
    "predict_key = 'falling_a'\n",
    "predict_val = True\n",
    "\n",
    "X = cvdata_features.iloc[:n_train].values[:, :n_features]\n",
    "y = (cvdata_md.iloc[:n_train][predict_key] == predict_val).values.astype(float)\n",
    "X_test = cvdata_features.iloc[n_train:].values[:, :n_features]\n",
    "y_test = (cvdata_md.iloc[n_train:][predict_key] == predict_val).values.astype(float)\n",
    "\n",
    "lr = LogisticRegression(C=1.0)\n",
    "lr.fit(X, y)\n",
    "lr.score(X_test, y_test)"
   ]
  },
  {
   "cell_type": "markdown",
   "metadata": {},
   "source": [
    "# Support vector machine (easy test)"
   ]
  },
  {
   "cell_type": "code",
   "execution_count": 175,
   "metadata": {},
   "outputs": [
    {
     "data": {
      "text/plain": [
       "0.725"
      ]
     },
     "execution_count": 175,
     "metadata": {},
     "output_type": "execute_result"
    }
   ],
   "source": [
    "n_features = 1000\n",
    "n_train = len(cvdata_features) // 4 * 3\n",
    "predict_key = 'corpus'\n",
    "predict_val = 'chicago'\n",
    "\n",
    "X = cvdata_features.iloc[:n_train].values[:, :n_features]\n",
    "y = (cvdata_md.iloc[:n_train][predict_key] == predict_val).values.astype(float)\n",
    "X_test = cvdata_features.iloc[n_train:].values[:, :n_features]\n",
    "y_test = (cvdata_md.iloc[n_train:][predict_key] == predict_val).values.astype(float)\n",
    "\n",
    "lr = SVC(C=1.0)\n",
    "lr.fit(X, y)\n",
    "lr.score(X_test, y_test)"
   ]
  },
  {
   "cell_type": "markdown",
   "metadata": {},
   "source": [
    "# Support vector machine (real test)"
   ]
  },
  {
   "cell_type": "code",
   "execution_count": 176,
   "metadata": {},
   "outputs": [
    {
     "data": {
      "text/plain": [
       "0.4945"
      ]
     },
     "execution_count": 176,
     "metadata": {},
     "output_type": "execute_result"
    }
   ],
   "source": [
    "n_features = 1000\n",
    "n_train = len(cvdata_features) // 4 * 3\n",
    "predict_key = 'falling_a'\n",
    "predict_val = True\n",
    "\n",
    "X = cvdata_features.iloc[:n_train].values[:, :n_features]\n",
    "y = (cvdata_md.iloc[:n_train][predict_key] == predict_val).values.astype(float)\n",
    "X_test = cvdata_features.iloc[n_train:].values[:, :n_features]\n",
    "y_test = (cvdata_md.iloc[n_train:][predict_key] == predict_val).values.astype(float)\n",
    "\n",
    "lr = SVC(C=1.0)\n",
    "lr.fit(X, y)\n",
    "lr.score(X_test, y_test)"
   ]
  },
  {
   "cell_type": "code",
   "execution_count": null,
   "metadata": {},
   "outputs": [],
   "source": []
  }
 ],
 "metadata": {
  "kernelspec": {
   "display_name": "Python 3",
   "language": "python",
   "name": "python3"
  },
  "language_info": {
   "codemirror_mode": {
    "name": "ipython",
    "version": 3
   },
   "file_extension": ".py",
   "mimetype": "text/x-python",
   "name": "python",
   "nbconvert_exporter": "python",
   "pygments_lexer": "ipython3",
   "version": "3.6.1"
  }
 },
 "nbformat": 4,
 "nbformat_minor": 2
}
