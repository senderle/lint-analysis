{
 "cells": [
  {
   "cell_type": "markdown",
   "metadata": {},
   "source": [
    "# Loading Word Counts"
   ]
  },
  {
   "cell_type": "code",
   "execution_count": 1,
   "metadata": {},
   "outputs": [],
   "source": [
    "import matplotlib as mpl\n",
    "import matplotlib.pyplot as plt\n",
    "import seaborn as sns\n",
    "\n",
    "mpl.style.use('seaborn-muted')\n",
    "sns.set(style=\"whitegrid\")\n",
    "\n",
    "%matplotlib inline"
   ]
  },
  {
   "cell_type": "code",
   "execution_count": 133,
   "metadata": {},
   "outputs": [],
   "source": [
    "import bz2\n",
    "import os\n",
    "import ujson\n",
    "import attr\n",
    "import re\n",
    "\n",
    "import pandas as pd\n",
    "import numpy as np\n",
    "import statsmodels.api as sm\n",
    "\n",
    "from pprint import pprint\n",
    "from glob import glob\n",
    "from collections import Counter, UserDict\n",
    "from itertools import islice\n",
    "from tqdm import tqdm_notebook\n",
    "from sklearn.linear_model import LogisticRegression\n",
    "from sklearn.naive_bayes import MultinomialNB\n",
    "from sklearn.svm import SVC"
   ]
  },
  {
   "cell_type": "markdown",
   "metadata": {},
   "source": [
    "# Loading .npz vectors, metadata, and terciles"
   ]
  },
  {
   "cell_type": "code",
   "execution_count": 61,
   "metadata": {},
   "outputs": [],
   "source": [
    "count_npz = '../counts/novels.100.npz'\n",
    "feature_name_file = '../counts/10kwords.txt'\n",
    "with open(feature_name_file) as ip:\n",
    "    feature_names = [f.strip() for f in ip]\n",
    "\n",
    "def load_all_counts(path):\n",
    "    files = [os.path.join(path, f) \n",
    "             for f in os.listdir(path) \n",
    "             if f.endswith('.npz')]\n",
    "    collected = {}\n",
    "    for f in files:\n",
    "        collected.update(np.load(f))\n",
    "    return collected"
   ]
  },
  {
   "cell_type": "code",
   "execution_count": 4,
   "metadata": {},
   "outputs": [],
   "source": [
    "md = pd.read_csv('../metadata/novels-metadata.csv',\n",
    "                 index_col='identifier')"
   ]
  },
  {
   "cell_type": "code",
   "execution_count": 5,
   "metadata": {},
   "outputs": [],
   "source": [
    "@attr.s\n",
    "class Dataset:\n",
    "    \n",
    "    root = attr.ib()\n",
    "    \n",
    "    def paths(self):\n",
    "        return glob(os.path.join(self.root, '*.bz2'))\n",
    "    \n",
    "    def novels(self):\n",
    "        for path in tqdm_notebook(self.paths()):\n",
    "            with bz2.open(path) as fh:\n",
    "                for line in fh:\n",
    "                    yield ujson.loads(line)"
   ]
  },
  {
   "cell_type": "code",
   "execution_count": 6,
   "metadata": {},
   "outputs": [],
   "source": [
    "ds = Dataset('../data/top200-3bins.json/')"
   ]
  },
  {
   "cell_type": "code",
   "execution_count": 7,
   "metadata": {},
   "outputs": [
    {
     "name": "stderr",
     "output_type": "stream",
     "text": [
      "Widget Javascript not detected.  It may not be installed or enabled properly.\n"
     ]
    },
    {
     "data": {
      "application/vnd.jupyter.widget-view+json": {
       "model_id": "1206210cbb6a44e68076b51898b74f30"
      }
     },
     "metadata": {},
     "output_type": "display_data"
    },
    {
     "name": "stdout",
     "output_type": "stream",
     "text": [
      "\n"
     ]
    }
   ],
   "source": [
    "novels = list(ds.novels())"
   ]
  },
  {
   "cell_type": "code",
   "execution_count": 51,
   "metadata": {},
   "outputs": [],
   "source": [
    "# This generates quad labels like so:\n",
    "#     2  3\n",
    "#     0  1\n",
    "# 0 == fall, fall\n",
    "# 1 == rise, fall\n",
    "# 2 == fall, rise\n",
    "# 3 == rise, rise\n",
    "\n",
    "def tercile_to_quad(terciles, feature):\n",
    "    t = terciles[feature]\n",
    "    return (t[0] < t[1]) + 2 * (t[1] < t[2]).astype(int)"
   ]
  },
  {
   "cell_type": "code",
   "execution_count": 9,
   "metadata": {},
   "outputs": [],
   "source": [
    "feature_set = sorted(novels[0]['counts'].keys())\n",
    "terciles = {(f, i): {n['identifier']: n['counts'][f][i] for n in novels}\n",
    "            for f in feature_set for i in range(3)}\n",
    "terciles = pd.DataFrame(terciles)"
   ]
  },
  {
   "cell_type": "code",
   "execution_count": 146,
   "metadata": {},
   "outputs": [],
   "source": [
    "test_word = 'a'\n",
    "test_quad = 0\n",
    "quad = tercile_to_quad(terciles, test_word)\n",
    "md = md.loc[quad.index].assign(quad=quad)\n",
    "works_available = set(md.index)"
   ]
  },
  {
   "cell_type": "code",
   "execution_count": 147,
   "metadata": {},
   "outputs": [],
   "source": [
    "features = load_all_counts(count_npz)\n",
    "features = {k: v for k, v in features.items() if k in works_available}\n",
    "features = pd.DataFrame(features).transpose()\n",
    "features.columns = feature_names\n",
    "# features = features.drop(columns=[test_word])"
   ]
  },
  {
   "cell_type": "markdown",
   "metadata": {},
   "source": [
    "# Constructing a cross-validation dataset"
   ]
  },
  {
   "cell_type": "code",
   "execution_count": 148,
   "metadata": {},
   "outputs": [],
   "source": [
    "c0_sel, = (md['quad'] == test_quad).values.nonzero()\n",
    "c1_sel, = (md['quad'] != test_quad).values.nonzero()\n",
    "min_samples = min([len(s) for s in (c0_sel, c1_sel)])\n",
    "n_cv_samples = 8000\n",
    "np.random.seed(1000)\n",
    "np.random.shuffle(c0_sel)\n",
    "np.random.shuffle(c1_sel)\n",
    "cvdata = np.hstack([c0_sel[0:n_cv_samples // 2], \n",
    "                    c1_sel[0:n_cv_samples // 2]])\n",
    "np.random.shuffle(cvdata)\n",
    "cvdata_md = md.iloc[cvdata]\n",
    "cvdata_features = features.iloc[cvdata]"
   ]
  },
  {
   "cell_type": "markdown",
   "metadata": {},
   "source": [
    "# Logistic regression (easy test)"
   ]
  },
  {
   "cell_type": "code",
   "execution_count": 149,
   "metadata": {},
   "outputs": [
    {
     "data": {
      "text/plain": [
       "0.996"
      ]
     },
     "execution_count": 149,
     "metadata": {},
     "output_type": "execute_result"
    }
   ],
   "source": [
    "n_features = 1000\n",
    "n_train = len(cvdata_features) // 4 * 3\n",
    "predict_key = 'corpus'\n",
    "predict_val = 'chicago'\n",
    "\n",
    "X = cvdata_features.iloc[:n_train].values[:, :n_features]\n",
    "X_mean = X.mean(axis=0)\n",
    "X_std = X.std(axis=0)\n",
    "X = (X - X_mean) / X_std\n",
    "y = (cvdata_md.iloc[:n_train][predict_key] == predict_val).values.astype(float)\n",
    "X_test = cvdata_features.iloc[n_train:].values[:, :n_features]\n",
    "X_test = (X_test - X_mean) / X_std\n",
    "y_test = (cvdata_md.iloc[n_train:][predict_key] == predict_val).values.astype(float)\n",
    "\n",
    "lr = LogisticRegression(C=1.0)\n",
    "lr.fit(X, y)\n",
    "lr.score(X_test, y_test)\n"
   ]
  },
  {
   "cell_type": "markdown",
   "metadata": {},
   "source": [
    "# Logistic regression (real test)"
   ]
  },
  {
   "cell_type": "code",
   "execution_count": 150,
   "metadata": {},
   "outputs": [
    {
     "data": {
      "text/plain": [
       "0.511"
      ]
     },
     "execution_count": 150,
     "metadata": {},
     "output_type": "execute_result"
    }
   ],
   "source": [
    "n_features = 1000\n",
    "n_train = len(cvdata_features) // 4 * 3\n",
    "predict_key = 'quad'\n",
    "predict_val = test_quad\n",
    "\n",
    "X = cvdata_features.iloc[:n_train].values[:, :n_features]\n",
    "X_mean = X.mean(axis=0)\n",
    "X_std = X.std(axis=0)\n",
    "X = (X - X_mean) / X_std\n",
    "y = (cvdata_md.iloc[:n_train][predict_key] == predict_val).values.astype(float)\n",
    "X_test = cvdata_features.iloc[n_train:].values[:, :n_features]\n",
    "X_test = (X_test - X_mean) / X_std\n",
    "y_test = (cvdata_md.iloc[n_train:][predict_key] == predict_val).values.astype(float)\n",
    "\n",
    "lr = LogisticRegression(C=0.3)\n",
    "lr.fit(X, y)\n",
    "lr.score(X_test, y_test)\n",
    "sum(y_test) / len(y_test)"
   ]
  },
  {
   "cell_type": "markdown",
   "metadata": {},
   "source": [
    "# Support vector machine (easy test)"
   ]
  },
  {
   "cell_type": "code",
   "execution_count": 121,
   "metadata": {},
   "outputs": [
    {
     "data": {
      "text/plain": [
       "0.981"
      ]
     },
     "execution_count": 121,
     "metadata": {},
     "output_type": "execute_result"
    }
   ],
   "source": [
    "n_features = 1000\n",
    "n_train = len(cvdata_features) // 4 * 3\n",
    "predict_key = 'corpus'\n",
    "predict_val = 'chicago'\n",
    "\n",
    "X = cvdata_features.iloc[:n_train].values[:, :n_features]\n",
    "X_mean = X.mean(axis=0)\n",
    "X_std = X.std(axis=0)\n",
    "X = (X - X_mean) / X_std\n",
    "y = (cvdata_md.iloc[:n_train][predict_key] == predict_val).values.astype(float)\n",
    "X_test = cvdata_features.iloc[n_train:].values[:, :n_features]\n",
    "X_test = (X_test - X_mean) / X_std\n",
    "y_test = (cvdata_md.iloc[n_train:][predict_key] == predict_val).values.astype(float)\n",
    "\n",
    "lr = SVC(C=1.0)\n",
    "lr.fit(X, y)\n",
    "lr.score(X_test, y_test)"
   ]
  },
  {
   "cell_type": "markdown",
   "metadata": {},
   "source": [
    "# Support vector machine (real test)"
   ]
  },
  {
   "cell_type": "code",
   "execution_count": 122,
   "metadata": {},
   "outputs": [
    {
     "data": {
      "text/plain": [
       "0.587"
      ]
     },
     "execution_count": 122,
     "metadata": {},
     "output_type": "execute_result"
    }
   ],
   "source": [
    "n_features = 1000\n",
    "n_train = len(cvdata_features) // 4 * 3\n",
    "predict_key = 'quad'\n",
    "predict_val = test_quad\n",
    "\n",
    "X = cvdata_features.iloc[:n_train].values[:, :n_features]\n",
    "X_mean = X.mean(axis=0)\n",
    "X_std = X.std(axis=0)\n",
    "X = (X - X_mean) / X_std\n",
    "y = (cvdata_md.iloc[:n_train][predict_key] == predict_val).values.astype(float)\n",
    "X_test = cvdata_features.iloc[n_train:].values[:, :n_features]\n",
    "X_test = (X_test - X_mean) / X_std\n",
    "y_test = (cvdata_md.iloc[n_train:][predict_key] == predict_val).values.astype(float)\n",
    "\n",
    "lr = SVC(C=1.0)\n",
    "lr.fit(X, y)\n",
    "lr.score(X_test, y_test)"
   ]
  },
  {
   "cell_type": "markdown",
   "metadata": {},
   "source": [
    "# MultinomialNB (easy test)"
   ]
  },
  {
   "cell_type": "code",
   "execution_count": 123,
   "metadata": {},
   "outputs": [
    {
     "data": {
      "text/plain": [
       "0.958"
      ]
     },
     "execution_count": 123,
     "metadata": {},
     "output_type": "execute_result"
    }
   ],
   "source": [
    "n_features = 1000\n",
    "n_train = len(cvdata_features) // 4 * 3\n",
    "predict_key = 'corpus'\n",
    "predict_val = 'chicago'\n",
    "\n",
    "X = cvdata_features.iloc[:n_train].values[:, :n_features]\n",
    "y = (cvdata_md.iloc[:n_train][predict_key] == predict_val).values.astype(float)\n",
    "X_test = cvdata_features.iloc[n_train:].values[:, :n_features]\n",
    "y_test = (cvdata_md.iloc[n_train:][predict_key] == predict_val).values.astype(float)\n",
    "\n",
    "lr = MultinomialNB()\n",
    "lr.fit(X, y)\n",
    "lr.score(X_test, y_test)"
   ]
  },
  {
   "cell_type": "markdown",
   "metadata": {},
   "source": [
    "# MultinomialNB (real test)"
   ]
  },
  {
   "cell_type": "code",
   "execution_count": 124,
   "metadata": {},
   "outputs": [
    {
     "data": {
      "text/plain": [
       "0.543"
      ]
     },
     "execution_count": 124,
     "metadata": {},
     "output_type": "execute_result"
    }
   ],
   "source": [
    "n_features = 1000\n",
    "n_train = len(cvdata_features) // 4 * 3\n",
    "predict_key = 'quad'\n",
    "predict_val = test_quad\n",
    "\n",
    "X = cvdata_features.iloc[:n_train].values[:, :n_features]\n",
    "y = (cvdata_md.iloc[:n_train][predict_key] == predict_val).values.astype(float)\n",
    "X_test = cvdata_features.iloc[n_train:].values[:, :n_features]\n",
    "y_test = (cvdata_md.iloc[n_train:][predict_key] == predict_val).values.astype(float)\n",
    "\n",
    "lr = MultinomialNB()\n",
    "lr.fit(X, y)\n",
    "lr.score(X_test, y_test)"
   ]
  },
  {
   "cell_type": "code",
   "execution_count": null,
   "metadata": {},
   "outputs": [],
   "source": []
  }
 ],
 "metadata": {
  "kernelspec": {
   "display_name": "Python 3",
   "language": "python",
   "name": "python3"
  },
  "language_info": {
   "codemirror_mode": {
    "name": "ipython",
    "version": 3
   },
   "file_extension": ".py",
   "mimetype": "text/x-python",
   "name": "python",
   "nbconvert_exporter": "python",
   "pygments_lexer": "ipython3",
   "version": "3.6.1"
  }
 },
 "nbformat": 4,
 "nbformat_minor": 2
}
