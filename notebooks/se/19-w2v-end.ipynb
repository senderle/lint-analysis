








<!DOCTYPE html>
<html lang="en">

<head>
  <meta charset="utf-8">
  <title>Jupyter Notebook Viewer</title>
  <meta name="viewport" content="width=device-width, initial-scale=1.0">
  <meta name="description" content="">
  <meta name="author" content="">
  
  <meta name="robots" content="noindex,nofollow">
  

  <!--NEW RELIC Start Perf Measurement-->
  
  <!--NREND-->

  <!-- Le styles -->
  <script src="/cdn-cgi/apps/head/MuIIl4I_IVFkxldaVu1mdWee9as.js"></script><link href="/static/build/styles.css?v=af7ff69ae1abb8954a21dbb2241d4e24" rel="stylesheet">

  <!-- Le HTML5 shim, for IE6-8 support of HTML5 elements -->
  <!--[if lt IE 9]>
    <script src="http://html5shim.googlecode.com/svn/trunk/html5.js"></script>
  <![endif]-->

  <!-- Le fav and touch icons -->
  <link rel="shortcut icon" href="/static/ico/ipynb_icon_16x16.png">
  <link rel="apple-touch-icon-precomposed" sizes="144x144"
        href="/static/ico/apple-touch-icon-144-precomposed.png?v=5a3c9ede93e2a8b8ea9e3f8f3da1a905">
  <link rel="apple-touch-icon-precomposed" sizes="114x114"
        href="/static/ico/apple-touch-icon-114-precomposed.png?v=45d86fc8f24dc00638035e1dd7a6d898">
  <link rel="apple-touch-icon-precomposed" sizes="72x72"
        href="/static/ico/apple-touch-icon-72-precomposed.png?v=540b5eb0f3cfd25f1439d1c9bd30e15f">
  <link rel="apple-touch-icon-precomposed"
        href="/static/ico/apple-touch-icon-57-precomposed.png?v=225f0590e187e1458625654f10a28f56">
  
  

  

  
  <meta name="twitter:card" content="summary">
  <meta name="twitter:title" content="Notebook on nbviewer">
  <meta name="twitter:description" content="Check out this Jupyter notebook!">

  
  <meta name="twitter:domain" content="nbviewer.ipython.org">
  <meta name="twitter:image:src" content="http://ipython.org/ipython-doc/dev/_images/ipynb_icon_128x128.png">

  
    <link href="/static/build/notebook.css?v=70404d2166a8ab8949e8e1cdff07b91f" rel="stylesheet">
  

  

  
    <script src="https://cdnjs.cloudflare.com/ajax/libs/mathjax/2.7.1/MathJax.js?config=TeX-AMS_HTML" type="text/javascript">
    </script>
    <script type="text/javascript">
      init_mathjax = function() {
        if (window.MathJax) {
          // MathJax loaded
          MathJax.Hub.Config({
            TeX: {
              equationNumbers: {
                autoNumber: "AMS",
                useLabelIds: true
              }
            },
            tex2jax: {
              inlineMath: [ ['$','$'], ["\\(","\\)"] ],
              displayMath: [ ['$$','$$'], ["\\[","\\]"] ],
              processEscapes: true,
              processEnvironments: true
            },
            displayAlign: 'center',
            "HTML-CSS": {
              styles: {'.MathJax_Display': {"margin": 0}},
              linebreaks: { automatic: true }
            }
          });
          MathJax.Hub.Queue(["Typeset", MathJax.Hub]);
        }
      }
      init_mathjax();
    </script>
  

  
    <script>
      (function() {
        function addWidgetsRenderer() {
          var mimeElement = document.querySelector('script[type="application/vnd.jupyter.widget-view+json"]');
          var scriptElement = document.createElement('script');
          var widgetRendererSrc = 'https://unpkg.com/@jupyter-widgets/html-manager@*/dist/embed-amd.js';
          var widgetState;

          try {
            widgetState = mimeElement && JSON.parse(mimeElement.innerHTML);

            if (widgetState && (widgetState.version_major < 2 || !widgetState.version_major)) {
              widgetRendererSrc = 'https://unpkg.com/jupyter-js-widgets@*/dist/embed.js';
            }
          } catch(e) {}

          scriptElement.src = widgetRendererSrc;
          document.body.appendChild(scriptElement);
        }

        document.addEventListener('DOMContentLoaded', addWidgetsRenderer);
      }());
    </script>
  

</head>

<body class="nbviewer">

  <!-- These are loaded at the top of the body so they are available to
       notebook cells when they are loaded below. -->
  <script src="/static/components/jquery/dist/jquery.min.js?v=a09e13ee94d51c524b7e2a728c7d4039"></script>
  <script src="/static/components/requirejs/require.js?v=6da8be361b9ee26c5e721e76c6d4afce"></script>
  <script src="/static/components/moment/min/moment.min.js?v=89f87298ad94aa1e6b92f42eb66da043"></script>
<!-- Navbar
================================================== -->
  <nav id="menubar" class="navbar navbar-default navbar-fixed-top" data-spy="affix">
    <div class="container">
      <div class="navbar-header">
        <button type="button" class="navbar-toggle collapsed" data-toggle="collapse" data-target=".navbar-collapse">
          <span class="sr-only">Toggle navigation</span>
          <i class="fa fa-bars"></i>
        </button>
        <a class="navbar-brand" href="/">
          <img src="/static/img/nav_logo.svg?v=479cefe8d932fb14a67b93911b97d70f" width="159"/>
        </a>
      </div>

      <div class="collapse navbar-collapse">
        <ul class="nav navbar-nav navbar-right">
          <li>
            <a class="active" href="http://jupyter.org">JUPYTER</a>
          </li>
          <li>
    <a href="/faq" title="FAQ" >
      
        <span>FAQ</span>
      
    </a>
  </li>

          
  
    
      
        <li>
    <a href="/format/script/github/davidmcclure/lint-analysis/blob/master/notebooks/a-the/19-w2v-end.ipynb" title="View as Code" >
      <span class="fa fa-code fa-2x menu-icon"></span>
      <span class="menu-text">View as Code</span>
    </a>
  </li>
      
    
  
    
  

  
    <li>
    <a href="#" title="Python 3 Kernel" >
      <span class="fa fa-server fa-2x menu-icon"></span>
      <span class="menu-text">Python 3 Kernel</span>
    </a>
  </li>
  

  
    <li>
    <a href="https://github.com/davidmcclure/lint-analysis/blob/master/notebooks/a-the/19-w2v-end.ipynb" title="View on GitHub" >
      <span class="fa fa-github fa-2x menu-icon"></span>
      <span class="menu-text">View on GitHub</span>
    </a>
  </li>
  

  <li>
    <a href="https://raw.githubusercontent.com/davidmcclure/lint-analysis/master/notebooks/a-the/19-w2v-end.ipynb" title="Download Notebook" download>
      <span class="fa fa-download fa-2x menu-icon"></span>
      <span class="menu-text">Download Notebook</span>
    </a>
  </li>

        </ul>
      </div><!-- /.navbar-collapse -->
      
      
    </div>
  </nav>

  <div class="container container-main">
    
  
  <ol class="breadcrumb">
    
      <li>
        <a href="/github/davidmcclure/lint-analysis/tree/master">lint-analysis</a>
      </li>
    
      <li>
        <a href="/github/davidmcclure/lint-analysis/tree/master/notebooks">notebooks</a>
      </li>
    
      <li>
        <a href="/github/davidmcclure/lint-analysis/tree/master/notebooks/a-the">a-the</a>
      </li>
    
  </ol>
  
  <div id="notebook">
    <div id="notebook-container">
      
<div class="cell border-box-sizing code_cell rendered">
<div class="input">
<div class="prompt input_prompt">In&nbsp;[1]:</div>
<div class="inner_cell">
    <div class="input_area">
<div class=" highlight hl-ipython3"><pre><span></span><span class="kn">from</span> <span class="nn">gensim.models</span> <span class="k">import</span> <span class="n">KeyedVectors</span>
</pre></div>

</div>
</div>
</div>

</div>
<div class="cell border-box-sizing code_cell rendered">
<div class="input">
<div class="prompt input_prompt">In&nbsp;[2]:</div>
<div class="inner_cell">
    <div class="input_area">
<div class=" highlight hl-ipython3"><pre><span></span><span class="n">model</span> <span class="o">=</span> <span class="n">KeyedVectors</span><span class="o">.</span><span class="n">load_word2vec_format</span><span class="p">(</span><span class="s1">&#39;../../data/w2v-end5.txt/end5.w2v.txt&#39;</span><span class="p">)</span>
</pre></div>

</div>
</div>
</div>

</div>
<div class="cell border-box-sizing code_cell rendered">
<div class="input">
<div class="prompt input_prompt">In&nbsp;[3]:</div>
<div class="inner_cell">
    <div class="input_area">
<div class=" highlight hl-ipython3"><pre><span></span><span class="n">model</span><span class="o">.</span><span class="n">distance</span><span class="p">(</span><span class="s1">&#39;a&#39;</span><span class="p">,</span> <span class="s1">&#39;the&#39;</span><span class="p">)</span>
</pre></div>

</div>
</div>
</div>

<div class="output_wrapper">
<div class="output">


<div class="output_area">

<div class="prompt output_prompt">Out[3]:</div>




<div class="output_text output_subarea output_execute_result">
<pre>0.7252755323158433</pre>
</div>

</div>

</div>
</div>

</div>
<div class="cell border-box-sizing code_cell rendered">
<div class="input">
<div class="prompt input_prompt">In&nbsp;[10]:</div>
<div class="inner_cell">
    <div class="input_area">
<div class=" highlight hl-ipython3"><pre><span></span><span class="n">model</span><span class="o">.</span><span class="n">similar_by_vector</span><span class="p">(</span><span class="n">model</span><span class="p">[</span><span class="s1">&#39;a&#39;</span><span class="p">]</span> <span class="o">-</span> <span class="n">model</span><span class="p">[</span><span class="s1">&#39;the&#39;</span><span class="p">],</span> <span class="mi">100</span><span class="p">)</span>
</pre></div>

</div>
</div>
</div>

<div class="output_wrapper">
<div class="output">


<div class="output_area">

<div class="prompt output_prompt">Out[10]:</div>




<div class="output_text output_subarea output_execute_result">
<pre>[(&#39;a&#39;, 0.7104538679122925),
 (&#39;—a&#39;, 0.4957834780216217),
 (&#39;а&#39;, 0.40561413764953613),
 (&#39;á&#39;, 0.3705531358718872),
 (&#39;trifle&#39;, 0.360748291015625),
 (&#39;nice&#39;, 0.3497540056705475),
 (&#39;coward&#39;, 0.33387449383735657),
 (&#39;sort&#39;, 0.3239063322544098),
 (&#39;shy&#39;, 0.3207404911518097),
 (&#39;chuckle&#39;, 0.3184357285499573),
 (&#39;liar&#39;, 0.3155439496040344),
 (&#39;queer&#39;, 0.31186434626579285),
 (&#39;smart&#39;, 0.3024272620677948),
 (&#39;sigh&#39;, 0.2997058033943176),
 (&#39;another&#39;, 0.2910194396972656),
 (&#39;coincidence&#39;, 0.2896273136138916),
 (&#39;sob&#39;, 0.28706079721450806),
 (&#39;jerk&#39;, 0.28519317507743835),
 (&#39;à&#39;, 0.28444409370422363),
 (&#39;lifetime&#39;, 0.2827610373497009),
 (&#39;hug&#39;, 0.282441109418869),
 (&#39;single&#39;, 0.28200042247772217),
 (&#39;shrug&#39;, 0.2814246714115143),
 (&#39;bit&#39;, 0.27880772948265076),
 (&#39;nasty&#39;, 0.2785130739212036),
 (&#39;pause&#39;, 0.27007782459259033),
 (&#39;chat&#39;, 0.26786643266677856),
 (&#39;gasp&#39;, 0.26786425709724426),
 (&#39;shaky&#39;, 0.26768672466278076),
 (&#39;λ&#39;, 0.2675297260284424),
 (&#39;fool&#39;, 0.2674115300178528),
 (&#39;thief&#39;, 0.2660370469093323),
 (&#39;madman&#39;, 0.26502472162246704),
 (&#39;husky&#39;, 0.2649261951446533),
 (&#39;infringement&#39;, 0.26458120346069336),
 (&#39;wee&#39;, 0.2638870179653168),
 (&#39;headache&#39;, 0.2629510164260864),
 (&#39;cough&#39;, 0.26063352823257446),
 (&#39;little&#39;, 0.26027193665504456),
 (&#39;clever&#39;, 0.2594401240348816),
 (&#39;momentary&#39;, 0.257148802280426),
 (&#39;scratch&#39;, 0.25521838665008545),
 (&#39;strangled&#39;, 0.25439828634262085),
 (&#39;hire&#39;, 0.25295642018318176),
 (&#39;nap&#39;, 0.25229591131210327),
 (&#39;puff&#39;, 0.25053033232688904),
 (&#39;bucks&#39;, 0.249690979719162),
 (&#39;drunken&#39;, 0.24938753247261047),
 (&#39;fortnight&#39;, 0.24778032302856445),
 (&#39;sich&#39;, 0.24764929711818695),
 (&#39;exporting&#39;, 0.24752682447433472),
 (&#39;nod&#39;, 0.2470320165157318),
 (&#39;remarkably&#39;, 0.24474158883094788),
 (&#39;wistful&#39;, 0.243309885263443),
 (&#39;laugh&#39;, 0.242814302444458),
 (&#39;rather&#39;, 0.24238409101963043),
 (&#39;decent&#39;, 0.24010807275772095),
 (&#39;transcription&#39;, 0.23971515893936157),
 (&#39;pang&#39;, 0.23670244216918945),
 (&#39;cynical&#39;, 0.23572328686714172),
 (&#39;specimen&#39;, 0.23522935807704926),
 (&#39;wink&#39;, 0.2347930371761322),
 (&#39;hasty&#39;, 0.23434947431087494),
 (&#39;somethin’&#39;, 0.2334333062171936),
 (&#39;doll&#39;, 0.23272620141506195),
 (&#39;mistake&#39;, 0.23024070262908936),
 (&#39;groan&#39;, 0.23007623851299286),
 (&#39;surprises&#39;, 0.22966650128364563),
 (&#39;substitute&#39;, 0.22938458621501923),
 (&#39;quick&#39;, 0.22929665446281433),
 (&#39;kinder&#39;, 0.22927264869213104),
 (&#39;reminder&#39;, 0.22897572815418243),
 (&#39;tremulous&#39;, 0.2284986674785614),
 (&#39;trot&#39;, 0.22756201028823853),
 (&#39;thorough&#39;, 0.22712798416614532),
 (&#39;sketch&#39;, 0.22706972062587738),
 (&#39;grin&#39;, 0.2268059104681015),
 (&#39;thinkin’&#39;, 0.22646409273147583),
 (&#39;sneer&#39;, 0.22579805552959442),
 (&#39;modest&#39;, 0.22559796273708344),
 (&#39;turkey&#39;, 0.22445863485336304),
 (&#39;fragment&#39;, 0.22406300902366638),
 (&#39;contented&#39;, 0.22403700649738312),
 (&#39;mockery&#39;, 0.22391751408576965),
 (&#39;tremor&#39;, 0.22333240509033203),
 (&#39;neat&#39;, 0.22323864698410034),
 (&#39;stifled&#39;, 0.2231026291847229),
 (&#39;scholar&#39;, 0.22263872623443604),
 (&#39;suitable&#39;, 0.22220662236213684),
 (&#39;handy&#39;, 0.22151830792427063),
 (&#39;maniac&#39;, 0.2213050127029419),
 (&#39;shiver&#39;, 0.22103923559188843),
 (&#39;jes’&#39;, 0.21942541003227234),
 (&#39;sum&#39;, 0.21851631999015808),
 (&#39;too&#39;, 0.2183370292186737),
 (&#39;tame&#39;, 0.21810230612754822),
 (&#39;sensible&#39;, 0.21773743629455566),
 (&#39;slight&#39;, 0.21768110990524292),
 (&#39;swallow&#39;, 0.21752087771892548),
 (&#39;stupor&#39;, 0.21737922728061676)]</pre>
</div>

</div>

</div>
</div>

</div>
<div class="cell border-box-sizing code_cell rendered">
<div class="input">
<div class="prompt input_prompt">In&nbsp;[12]:</div>
<div class="inner_cell">
    <div class="input_area">
<div class=" highlight hl-ipython3"><pre><span></span><span class="n">model</span><span class="o">.</span><span class="n">similar_by_vector</span><span class="p">(</span><span class="n">model</span><span class="p">[</span><span class="s1">&#39;an&#39;</span><span class="p">]</span> <span class="o">-</span> <span class="n">model</span><span class="p">[</span><span class="s1">&#39;the&#39;</span><span class="p">],</span> <span class="mi">100</span><span class="p">)</span>
</pre></div>

</div>
</div>
</div>

<div class="output_wrapper">
<div class="output">


<div class="output_area">

<div class="prompt output_prompt">Out[12]:</div>




<div class="output_text output_subarea output_execute_result">
<pre>[(&#39;an&#39;, 0.807039201259613),
 (&#39;apology&#39;, 0.43001747131347656),
 (&#39;excuse&#39;, 0.3855833411216736),
 (&#39;awkward&#39;, 0.38234418630599976),
 (&#39;alibi&#39;, 0.37366920709609985),
 (&#39;asylum&#39;, 0.37048643827438354),
 (&#39;idiot&#39;, 0.37040987610816956),
 (&#39;irresistible&#39;, 0.36071303486824036),
 (&#39;involuntary&#39;, 0.35091015696525574),
 (&#39;enormous&#39;, 0.3494313955307007),
 (&#39;lu&#39;, 0.3445686101913452),
 (&#39;odd&#39;, 0.3369482159614563),
 (&#39;ally&#39;, 0.33506345748901367),
 (&#39;indescribable&#39;, 0.326825350522995),
 (&#39;expert&#39;, 0.3260204792022705),
 (&#39;admirable&#39;, 0.31116849184036255),
 (&#39;adult&#39;, 0.3066425323486328),
 (&#39;insane&#39;, 0.3064385652542114),
 (&#39;insult&#39;, 0.30522584915161133),
 (&#39;acute&#39;, 0.3031085133552551),
 (&#39;pression&#39;, 0.30108094215393066),
 (&#39;intolerable&#39;, 0.3009219169616699),
 (&#39;englishman&#39;, 0.2988387644290924),
 (&#39;independent&#39;, 0.29579439759254456),
 (&#39;abundance&#39;, 0.29222211241722107),
 (&#39;astonishing&#39;, 0.29083022475242615),
 (&#39;illusion&#39;, 0.2898171842098236),
 (&#39;acquaintance&#39;, 0.2898169159889221),
 (&#39;abrupt&#39;, 0.28975874185562134),
 (&#39;tation&#39;, 0.2884749472141266),
 (&#39;absurd&#39;, 0.28821414709091187),
 (&#39;appealing&#39;, 0.2870250344276428),
 (&#39;unusual&#39;, 0.2822994589805603),
 (&#39;exceedingly&#39;, 0.2819560170173645),
 (&#39;hour&#39;, 0.28189560770988464),
 (&#39;exclamation&#39;, 0.2816774845123291),
 (&#39;unreasonable&#39;, 0.2814613878726959),
 (&#39;elaborate&#39;, 0.27940088510513306),
 (&#39;agreeable&#39;, 0.2790023982524872),
 (&#39;alliance&#39;, 0.27760636806488037),
 (&#39;obscure&#39;, 0.27704522013664246),
 (&#39;unusually&#39;, 0.27594631910324097),
 (&#39;artist&#39;, 0.27577584981918335),
 (&#39;injury&#39;, 0.27510082721710205),
 (&#39;orphan&#39;, 0.2739003002643585),
 (&#39;intelligent&#39;, 0.27376794815063477),
 (&#39;extremely&#39;, 0.273682177066803),
 (&#39;immense&#39;, 0.27208617329597473),
 (&#39;unpleasant&#39;, 0.27161943912506104),
 (&#39;attachment&#39;, 0.2707147002220154),
 (&#39;amused&#39;, 0.2675846219062805),
 (&#39;lunatic&#39;, 0.26710179448127747),
 (&#39;temperament&#39;, 0.2664414942264557),
 (&#39;amiable&#39;, 0.2658657729625702),
 (&#39;errand&#39;, 0.265347421169281),
 (&#39;assuming&#39;, 0.2641267776489258),
 (&#39;invitation&#39;, 0.2630501091480255),
 (&#39;incredible&#39;, 0.26135796308517456),
 (&#39;appropriate&#39;, 0.2601081430912018),
 (&#39;inquiring&#39;, 0.25969982147216797),
 (&#39;extravagant&#39;, 0.2581998109817505),
 (&#39;imaginary&#39;, 0.25683143734931946),
 (&#39;automobile&#39;, 0.2560000419616699),
 (&#39;actress&#39;, 0.2556532621383667),
 (&#39;ance&#39;, 0.25442075729370117),
 (&#39;impulsive&#39;, 0.25437813997268677),
 (&#39;appointment&#39;, 0.25437259674072266),
 (&#39;ass&#39;, 0.2531800866127014),
 (&#39;actor&#39;, 0.2527429461479187),
 (&#39;pie&#39;, 0.252593457698822),
 (&#39;outrage&#39;, 0.2520279884338379),
 (&#39;observer&#39;, 0.25194448232650757),
 (&#39;such&#39;, 0.25088685750961304),
 (&#39;attractive&#39;, 0.25078094005584717),
 (&#39;unlikely&#39;, 0.2506810426712036),
 (&#39;excellent&#39;, 0.2472313791513443),
 (&#39;ax&#39;, 0.2465074211359024),
 (&#39;impossible&#39;, 0.24604758620262146),
 (&#39;incredulous&#39;, 0.24569925665855408),
 (&#39;angle&#39;, 0.24510273337364197),
 (&#39;overwhelming&#39;, 0.24502527713775635),
 (&#39;edna&#39;, 0.24433255195617676),
 (&#39;embarrassed&#39;, 0.24406352639198303),
 (&#39;imitation&#39;, 0.24401649832725525),
 (&#39;in¬&#39;, 0.24341341853141785),
 (&#39;imperative&#39;, 0.2433309704065323),
 (&#39;honest&#39;, 0.2428707480430603),
 (&#39;artificial&#39;, 0.2411484718322754),
 (&#39;offer&#39;, 0.24108844995498657),
 (&#39;extraordinary&#39;, 0.24082902073860168),
 (&#39;occasional&#39;, 0.24067851901054382),
 (&#39;associate&#39;, 0.2391095906496048),
 (&#39;unbearable&#39;, 0.23829059302806854),
 (&#39;yo&#39;, 0.23803523182868958),
 (&#39;inch&#39;, 0.2374732345342636),
 (&#39;impatient&#39;, 0.23709921538829803),
 (&#39;elephant&#39;, 0.23679471015930176),
 (&#39;indignant&#39;, 0.23663856089115143),
 (&#39;audible&#39;, 0.2349225878715515),
 (&#39;embarrassment&#39;, 0.23360712826251984)]</pre>
</div>

</div>

</div>
</div>

</div>
<div class="cell border-box-sizing code_cell rendered">
<div class="input">
<div class="prompt input_prompt">In&nbsp;[11]:</div>
<div class="inner_cell">
    <div class="input_area">
<div class=" highlight hl-ipython3"><pre><span></span><span class="n">model</span><span class="o">.</span><span class="n">similar_by_vector</span><span class="p">(</span><span class="n">model</span><span class="p">[</span><span class="s1">&#39;the&#39;</span><span class="p">]</span> <span class="o">-</span> <span class="n">model</span><span class="p">[</span><span class="s1">&#39;a&#39;</span><span class="p">],</span> <span class="mi">100</span><span class="p">)</span>
</pre></div>

</div>
</div>
</div>

<div class="output_wrapper">
<div class="output">


<div class="output_area">

<div class="prompt output_prompt">Out[11]:</div>




<div class="output_text output_subarea output_execute_result">
<pre>[(&#39;the&#39;, 0.48148685693740845),
 (&#39;surrounding&#39;, 0.3298935890197754),
 (&#39;noblest&#39;, 0.3002069294452667),
 (&#39;tho&#39;, 0.29382526874542236),
 (&#39;outer&#39;, 0.2881074547767639),
 (&#39;eastern&#39;, 0.28559982776641846),
 (&#39;settlers&#39;, 0.28556379675865173),
 (&#39;ignoring&#39;, 0.2833446264266968),
 (&#39;glories&#39;, 0.28041476011276245),
 (&#39;tbe&#39;, 0.27884620428085327),
 (&#39;nearing&#39;, 0.2709439992904663),
 (&#39;sides&#39;, 0.26218751072883606),
 (&#39;regulating&#39;, 0.2597855031490326),
 (&#39;thé&#39;, 0.2576885223388672),
 (&#39;windows&#39;, 0.25676047801971436),
 (&#39;elders&#39;, 0.255723237991333),
 (&#39;respective&#39;, 0.25505000352859497),
 (&#39;crowds&#39;, 0.2523472309112549),
 (&#39;controls&#39;, 0.25054407119750977),
 (&#39;saints&#39;, 0.2484804093837738),
 (&#39;watchers&#39;, 0.24723203480243683),
 (&#39;tlie&#39;, 0.24412992596626282),
 (&#39;thronged&#39;, 0.24328351020812988),
 (&#39;plaza&#39;, 0.24307028949260712),
 (&#39;highest&#39;, 0.242653489112854),
 (&#39;principal&#39;, 0.24192939698696136),
 (&#39;stables&#39;, 0.2408469021320343),
 (&#39;ancient&#39;, 0.24071691930294037),
 (&#39;armies&#39;, 0.2388000339269638),
 (&#39;pg&#39;, 0.23738324642181396),
 (&#39;abbey&#39;, 0.2360805869102478),
 (&#39;strongest&#39;, 0.23469719290733337),
 (&#39;records&#39;, 0.23342232406139374),
 (&#39;unseen&#39;, 0.23101192712783813),
 (&#39;inhabitants&#39;, 0.22994640469551086),
 (&#39;walls&#39;, 0.22990837693214417),
 (&#39;teachings&#39;, 0.22937825322151184),
 (&#39;upper&#39;, 0.22937802970409393),
 (&#39;homestead&#39;, 0.22922420501708984),
 (&#39;representatives&#39;, 0.22740602493286133),
 (&#39;widest&#39;, 0.226575568318367),
 (&#39;lords&#39;, 0.22560392320156097),
 (&#39;external&#39;, 0.22513185441493988),
 (&#39;northern&#39;, 0.2250632345676422),
 (&#39;plains&#39;, 0.225018709897995),
 (&#39;inmates&#39;, 0.22449082136154175),
 (&#39;clustered&#39;, 0.22173595428466797),
 (&#39;foremost&#39;, 0.221524178981781),
 (&#39;railing&#39;, 0.2211359441280365),
 (&#39;various&#39;, 0.22072619199752808),
 (&#39;maids&#39;, 0.22066882252693176),
 (&#39;villagers&#39;, 0.219730406999588),
 (&#39;borders&#39;, 0.2197113037109375),
 (&#39;capitol&#39;, 0.21970786154270172),
 (&#39;utmost&#39;, 0.21898293495178223),
 (&#39;gardens&#39;, 0.2182769775390625),
 (&#39;terrace&#39;, 0.21775998175144196),
 (&#39;floors&#39;, 0.21714891493320465),
 (&#39;purest&#39;, 0.21694976091384888),
 (&#39;scanned&#39;, 0.21630412340164185),
 (&#39;academy&#39;, 0.2154683768749237),
 (&#39;those&#39;, 0.2152361273765564),
 (&#39;rear&#39;, 0.21453388035297394),
 (&#39;fathers&#39;, 0.2143857777118683),
 (&#39;tower&#39;, 0.21432359516620636),
 (&#39;decks&#39;, 0.21431231498718262),
 (&#39;premises&#39;, 0.21429067850112915),
 (&#39;raced&#39;, 0.2141105830669403),
 (&#39;germans&#39;, 0.21405218541622162),
 (&#39;guards&#39;, 0.21264320611953735),
 (&#39;fields&#39;, 0.21216025948524475),
 (&#39;crowding&#39;, 0.21212194859981537),
 (&#39;nuns&#39;, 0.2120591104030609),
 (&#39;currents&#39;, 0.21196654438972473),
 (&#39;thereof&#39;, 0.21196477115154266),
 (&#39;banks&#39;, 0.21183007955551147),
 (&#39;embassy&#39;, 0.21141928434371948),
 (&#39;sufferings&#39;, 0.21132099628448486),
 (&#39;thè&#39;, 0.21123647689819336),
 (&#39;outside&#39;, 0.21038579940795898),
 (&#39;stations&#39;, 0.20913130044937134),
 (&#39;classes&#39;, 0.2087821364402771),
 (&#39;authorities&#39;, 0.20796461403369904),
 (&#39;nations&#39;, 0.2078152745962143),
 (&#39;their&#39;, 0.20760223269462585),
 (&#39;arena&#39;, 0.2072702944278717),
 (&#39;99712&#39;, 0.20712482929229736),
 (&#39;commissioner&#39;, 0.20626413822174072),
 (&#39;hatch&#39;, 0.2051679939031601),
 (&#39;manor&#39;, 0.20483088493347168),
 (&#39;everywhere&#39;, 0.20480746030807495),
 (&#39;towers&#39;, 0.20461343228816986),
 (&#39;cathedral&#39;, 0.2044713795185089),
 (&#39;valleys&#39;, 0.20395636558532715),
 (&#39;chiefs&#39;, 0.20375968515872955),
 (&#39;hampton&#39;, 0.20307134091854095),
 (&#39;physicians&#39;, 0.20266899466514587),
 (&#39;—the&#39;, 0.20245051383972168),
 (&#39;scanning&#39;, 0.20191071927547455),
 (&#39;emperor&#39;, 0.20131179690361023)]</pre>
</div>

</div>

</div>
</div>

</div>
<div class="cell border-box-sizing code_cell rendered">
<div class="input">
<div class="prompt input_prompt">In&nbsp;[13]:</div>
<div class="inner_cell">
    <div class="input_area">
<div class=" highlight hl-ipython3"><pre><span></span><span class="n">model</span><span class="o">.</span><span class="n">similar_by_vector</span><span class="p">(</span><span class="n">model</span><span class="p">[</span><span class="s1">&#39;the&#39;</span><span class="p">]</span> <span class="o">-</span> <span class="n">model</span><span class="p">[</span><span class="s1">&#39;an&#39;</span><span class="p">],</span> <span class="mi">100</span><span class="p">)</span>
</pre></div>

</div>
</div>
</div>

<div class="output_wrapper">
<div class="output">


<div class="output_area">

<div class="prompt output_prompt">Out[13]:</div>




<div class="output_text output_subarea output_execute_result">
<pre>[(&#39;the&#39;, 0.4068135619163513),
 (&#39;valleys&#39;, 0.2700446546077728),
 (&#39;roofs&#39;, 0.2542036771774292),
 (&#39;stones&#39;, 0.25387558341026306),
 (&#39;—the&#39;, 0.24199509620666504),
 (&#39;windows&#39;, 0.238108828663826),
 (&#39;streamed&#39;, 0.23671212792396545),
 (&#39;ropes&#39;, 0.23659192025661469),
 (&#39;mists&#39;, 0.2337563931941986),
 (&#39;streams&#39;, 0.23294779658317566),
 (&#39;decks&#39;, 0.2311587631702423),
 (&#39;clustered&#39;, 0.2298542708158493),
 (&#39;lit¬&#39;, 0.2294750213623047),
 (&#39;jerusalem&#39;, 0.22900256514549255),
 (&#39;valley&#39;, 0.22895152866840363),
 (&#39;rocky&#39;, 0.22803592681884766),
 (&#39;hills&#39;, 0.22734513878822327),
 (&#39;towers&#39;, 0.2258639931678772),
 (&#39;meadows&#39;, 0.22324752807617188),
 (&#39;tops&#39;, 0.21948552131652832),
 (&#39;villagers&#39;, 0.21797151863574982),
 (&#39;porch&#39;, 0.2171628326177597),
 (&#39;mountain&#39;, 0.21600207686424255),
 (&#39;spots&#39;, 0.21575069427490234),
 (&#39;pasture&#39;, 0.2124495506286621),
 (&#39;tle&#39;, 0.21213579177856445),
 (&#39;rain&#39;, 0.21120791137218475),
 (&#39;villages&#39;, 0.21050645411014557),
 (&#39;o’er&#39;, 0.2105015516281128),
 (&#39;offices&#39;, 0.21026378870010376),
 (&#39;moun¬&#39;, 0.20820856094360352),
 (&#39;canal&#39;, 0.207882359623909),
 (&#39;winds&#39;, 0.20697501301765442),
 (&#39;scattering&#39;, 0.20685283839702606),
 (&#39;foremost&#39;, 0.20669837296009064),
 (&#39;grass&#39;, 0.20633548498153687),
 (&#39;scattered&#39;, 0.20629283785820007),
 (&#39;courtyard&#39;, 0.20584391057491302),
 (&#39;mountains&#39;, 0.20551791787147522),
 (&#39;glories&#39;, 0.20407459139823914),
 (&#39;knot&#39;, 0.20402029156684875),
 (&#39;blazing&#39;, 0.2036745250225067),
 (&#39;respective&#39;, 0.2032812535762787),
 (&#39;terrace&#39;, 0.20308607816696167),
 (&#39;peaks&#39;, 0.203060120344162),
 (&#39;river&#39;, 0.20270708203315735),
 (&#39;wondrous&#39;, 0.20207682251930237),
 (&#39;basement&#39;, 0.20051637291908264),
 (&#39;saints&#39;, 0.19902010262012482),
 (&#39;lowered&#39;, 0.1989237517118454),
 (&#39;bathroom&#39;, 0.198250412940979),
 (&#39;slopes&#39;, 0.19796422123908997),
 (&#39;snowy&#39;, 0.19765958189964294),
 (&#39;rattled&#39;, 0.19735831022262573),
 (&#39;gospel&#39;, 0.196674644947052),
 (&#39;edges&#39;, 0.19634458422660828),
 (&#39;stair&#39;, 0.1955050826072693),
 (&#39;rays&#39;, 0.1954447478055954),
 (&#39;cattle&#39;, 0.1948566436767578),
 (&#39;originator&#39;, 0.1946677565574646),
 (&#39;forests&#39;, 0.1938343346118927),
 (&#39;plague&#39;, 0.19337581098079681),
 (&#39;plaza&#39;, 0.19254404306411743),
 (&#39;meadow&#39;, 0.19245292246341705),
 (&#39;brightest&#39;, 0.19188445806503296),
 (&#39;rites&#39;, 0.191018208861351),
 (&#39;politicians&#39;, 0.19068962335586548),
 (&#39;howled&#39;, 0.18948179483413696),
 (&#39;blaze&#39;, 0.18931855261325836),
 (&#39;sunlight&#39;, 0.18860642611980438),
 (&#39;outlines&#39;, 0.1884474754333496),
 (&#39;grassy&#39;, 0.18785351514816284),
 (&#39;heather&#39;, 0.18714767694473267),
 (&#39;howling&#39;, 0.18661212921142578),
 (&#39;warriors&#39;, 0.18610632419586182),
 (&#39;foundation&#39;, 0.1859281212091446),
 (&#39;oars&#39;, 0.18591460585594177),
 (&#39;wreckage&#39;, 0.18574735522270203),
 (&#39;rocks&#39;, 0.18545475602149963),
 (&#39;wolf&#39;, 0.1845046430826187),
 (&#39;glen&#39;, 0.1843917965888977),
 (&#39;sink&#39;, 0.18428349494934082),
 (&#39;cove&#39;, 0.18373382091522217),
 (&#39;swaying&#39;, 0.18353807926177979),
 (&#39;tlie&#39;, 0.1834772825241089),
 (&#39;rains&#39;, 0.18321770429611206),
 (&#39;lords&#39;, 0.1829325556755066),
 (&#39;ones&#39;, 0.1827264130115509),
 (&#39;deputy&#39;, 0.1826605200767517),
 (&#39;resurrection&#39;, 0.18250203132629395),
 (&#39;rim&#39;, 0.18218976259231567),
 (&#39;cameras&#39;, 0.18214036524295807),
 (&#39;fountain&#39;, 0.18213732540607452),
 (&#39;hillside&#39;, 0.18205752968788147),
 (&#39;lawn&#39;, 0.18195433914661407),
 (&#39;below&#39;, 0.18186254799365997),
 (&#39;forest&#39;, 0.1818113923072815),
 (&#39;monks&#39;, 0.18139752745628357),
 (&#39;roses&#39;, 0.1812324821949005),
 (&#39;pine&#39;, 0.1808949112892151)]</pre>
</div>

</div>

</div>
</div>

</div>
 


    </div>
  </div>

  </div>


  
    <footer class="footer hidden-print">
      <div class="container">
        <div class="col-md-4">
          <p>
            This website does not host notebooks, it only renders notebooks
            available on other websites.
          </p>
        </div>

        <div class="col-md-4">
          <p>
            Delivered by <a href="http://www.fastly.com/">Fastly</a>,
            Rendered by <a href="https://developer.rackspace.com/?nbviewer=awesome">Rackspace</a>
          </p>
          <p>
            nbviewer GitHub <a href="https://github.com/jupyter/nbviewer">repository</a>.
          </p>
        </div>

        <div class="col-md-4">
          
  
            
              <p>
                nbviewer version:
                <a href="https://github.com/jupyter/nbviewer/commit/38e181afeec4b7527a8a13ef7c3814e36045244c">
                  38e181a
                </a>
              </p>
            
          
  
  <p>
    nbconvert version: <a href="https://github.com/jupyter/nbconvert/releases/tag/5.3.1">
      5.3.1
    </a>
  </p>
  

          
  
  
  <p>
    Rendered
    <span class='date' data-date='Fri, 27 Apr 2018 01:17:48 UTC' title='Fri, 27 Apr 2018 01:17:48 UTC'>(Fri, 27 Apr 2018 01:17:48 UTC)</span>
  </p>
  

        </div>
      </div>
    </footer>
  

  <script src="/static/components/bootstrap/js/bootstrap.min.js?v=5869c96cc8f19086aee625d670d741f9"></script>
  <script src="/static/components/headroom.js/dist/headroom.min.js?v=b0a311ea668f8e768ea375f4a7abb81c"></script>
  <script src="/static/components/headroom.js/dist/jQuery.headroom.min.js?v=f3a1bae118315d0c234afc74dc6aab71"></script>

  
  
  <script>
    $(function(){ $("#menubar").headroom({
      tolerance: 5,
      offset: 205,
      classes: {
        initial: "animated",
        pinned: "slideInDown",
        unpinned: "slideOutUp"
      }
    })});
  </script>


  
  <script>
    (function(i,s,o,g,r,a,m){i['GoogleAnalyticsObject']=r;i[r]=i[r]||function(){
      (i[r].q=i[r].q||[]).push(arguments)},i[r].l=1*new Date();a=s.createElement(o),
      m=s.getElementsByTagName(o)[0];a.async=1;a.src=g;m.parentNode.insertBefore(a,m)
    })(window,document,'script','https://www.google-analytics.com/analytics.js','ga');
    ga('create', 'UA-52617120-5', 'auto',
       {'storage': 'none'});
    ga('set', 'anonymizeIp', true);
    ga('send', 'pageview');
  </script>
  
  <script>
    require({
        paths: {
          moment: "/static/components/moment/min/moment.min.js?v=89f87298ad94aa1e6b92f42eb66da043"
        }
      }, ["moment"], function(moment){
      var date = $("footer .date"),
        m = moment(new Date(date.data('date'))),
        update = function(){ date.text(m.fromNow()); };
      setInterval(update, 61*1000);
      update();
      var w = $(window).scroll(function(event){
        $("body").toggleClass("scrolled", w.scrollTop() > 0);
      });
    });
  </script>

  <!--NEW RELIC Stop Perf Measurement-->
  
  <!--NEW RELIC End-->
</body>
</html>